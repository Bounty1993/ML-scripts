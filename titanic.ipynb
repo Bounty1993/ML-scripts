{
 "cells": [
  {
   "cell_type": "markdown",
   "metadata": {},
   "source": [
    "Hello Kagglers! In this notebook I would like to show you how to analysis and predict very simple dataset."
   ]
  },
  {
   "cell_type": "markdown",
   "metadata": {},
   "source": [
    "**Importing libraries**"
   ]
  },
  {
   "cell_type": "code",
   "execution_count": 16,
   "metadata": {},
   "outputs": [],
   "source": [
    "import os\n",
    "\n",
    "import numpy as np\n",
    "import pandas as pd\n",
    "from sklearn.ensemble import RandomForestClassifier\n",
    "from sklearn.svm import SVC\n",
    "from sklearn.model_selection import GridSearchCV\n",
    "import matplotlib.pyplot as plt\n",
    "import seaborn as sns\n",
    "\n",
    "sns.set()"
   ]
  },
  {
   "cell_type": "markdown",
   "metadata": {},
   "source": [
    "**Loading data**"
   ]
  },
  {
   "cell_type": "code",
   "execution_count": 2,
   "metadata": {},
   "outputs": [
    {
     "name": "stdout",
     "output_type": "stream",
     "text": [
      "Train size:  (891, 11)\n",
      "Test size:  (418, 10)\n"
     ]
    },
    {
     "data": {
      "text/html": [
       "<div>\n",
       "<style scoped>\n",
       "    .dataframe tbody tr th:only-of-type {\n",
       "        vertical-align: middle;\n",
       "    }\n",
       "\n",
       "    .dataframe tbody tr th {\n",
       "        vertical-align: top;\n",
       "    }\n",
       "\n",
       "    .dataframe thead th {\n",
       "        text-align: right;\n",
       "    }\n",
       "</style>\n",
       "<table border=\"1\" class=\"dataframe\">\n",
       "  <thead>\n",
       "    <tr style=\"text-align: right;\">\n",
       "      <th></th>\n",
       "      <th>Survived</th>\n",
       "      <th>Pclass</th>\n",
       "      <th>Name</th>\n",
       "      <th>Sex</th>\n",
       "      <th>Age</th>\n",
       "      <th>SibSp</th>\n",
       "      <th>Parch</th>\n",
       "      <th>Ticket</th>\n",
       "      <th>Fare</th>\n",
       "      <th>Cabin</th>\n",
       "      <th>Embarked</th>\n",
       "    </tr>\n",
       "    <tr>\n",
       "      <th>PassengerId</th>\n",
       "      <th></th>\n",
       "      <th></th>\n",
       "      <th></th>\n",
       "      <th></th>\n",
       "      <th></th>\n",
       "      <th></th>\n",
       "      <th></th>\n",
       "      <th></th>\n",
       "      <th></th>\n",
       "      <th></th>\n",
       "      <th></th>\n",
       "    </tr>\n",
       "  </thead>\n",
       "  <tbody>\n",
       "    <tr>\n",
       "      <th>1</th>\n",
       "      <td>0</td>\n",
       "      <td>3</td>\n",
       "      <td>Braund, Mr. Owen Harris</td>\n",
       "      <td>male</td>\n",
       "      <td>22.0</td>\n",
       "      <td>1</td>\n",
       "      <td>0</td>\n",
       "      <td>A/5 21171</td>\n",
       "      <td>7.2500</td>\n",
       "      <td>NaN</td>\n",
       "      <td>S</td>\n",
       "    </tr>\n",
       "    <tr>\n",
       "      <th>2</th>\n",
       "      <td>1</td>\n",
       "      <td>1</td>\n",
       "      <td>Cumings, Mrs. John Bradley (Florence Briggs Th...</td>\n",
       "      <td>female</td>\n",
       "      <td>38.0</td>\n",
       "      <td>1</td>\n",
       "      <td>0</td>\n",
       "      <td>PC 17599</td>\n",
       "      <td>71.2833</td>\n",
       "      <td>C85</td>\n",
       "      <td>C</td>\n",
       "    </tr>\n",
       "    <tr>\n",
       "      <th>3</th>\n",
       "      <td>1</td>\n",
       "      <td>3</td>\n",
       "      <td>Heikkinen, Miss. Laina</td>\n",
       "      <td>female</td>\n",
       "      <td>26.0</td>\n",
       "      <td>0</td>\n",
       "      <td>0</td>\n",
       "      <td>STON/O2. 3101282</td>\n",
       "      <td>7.9250</td>\n",
       "      <td>NaN</td>\n",
       "      <td>S</td>\n",
       "    </tr>\n",
       "    <tr>\n",
       "      <th>4</th>\n",
       "      <td>1</td>\n",
       "      <td>1</td>\n",
       "      <td>Futrelle, Mrs. Jacques Heath (Lily May Peel)</td>\n",
       "      <td>female</td>\n",
       "      <td>35.0</td>\n",
       "      <td>1</td>\n",
       "      <td>0</td>\n",
       "      <td>113803</td>\n",
       "      <td>53.1000</td>\n",
       "      <td>C123</td>\n",
       "      <td>S</td>\n",
       "    </tr>\n",
       "    <tr>\n",
       "      <th>5</th>\n",
       "      <td>0</td>\n",
       "      <td>3</td>\n",
       "      <td>Allen, Mr. William Henry</td>\n",
       "      <td>male</td>\n",
       "      <td>35.0</td>\n",
       "      <td>0</td>\n",
       "      <td>0</td>\n",
       "      <td>373450</td>\n",
       "      <td>8.0500</td>\n",
       "      <td>NaN</td>\n",
       "      <td>S</td>\n",
       "    </tr>\n",
       "  </tbody>\n",
       "</table>\n",
       "</div>"
      ],
      "text/plain": [
       "             Survived  Pclass  \\\n",
       "PassengerId                     \n",
       "1                   0       3   \n",
       "2                   1       1   \n",
       "3                   1       3   \n",
       "4                   1       1   \n",
       "5                   0       3   \n",
       "\n",
       "                                                          Name     Sex   Age  \\\n",
       "PassengerId                                                                    \n",
       "1                                      Braund, Mr. Owen Harris    male  22.0   \n",
       "2            Cumings, Mrs. John Bradley (Florence Briggs Th...  female  38.0   \n",
       "3                                       Heikkinen, Miss. Laina  female  26.0   \n",
       "4                 Futrelle, Mrs. Jacques Heath (Lily May Peel)  female  35.0   \n",
       "5                                     Allen, Mr. William Henry    male  35.0   \n",
       "\n",
       "             SibSp  Parch            Ticket     Fare Cabin Embarked  \n",
       "PassengerId                                                          \n",
       "1                1      0         A/5 21171   7.2500   NaN        S  \n",
       "2                1      0          PC 17599  71.2833   C85        C  \n",
       "3                0      0  STON/O2. 3101282   7.9250   NaN        S  \n",
       "4                1      0            113803  53.1000  C123        S  \n",
       "5                0      0            373450   8.0500   NaN        S  "
      ]
     },
     "execution_count": 2,
     "metadata": {},
     "output_type": "execute_result"
    }
   ],
   "source": [
    "train_path = os.path.join('datasets', 'titanic', 'train.csv')\n",
    "test_path = os.path.join('datasets', 'titanic', 'test.csv')\n",
    "\n",
    "train_df = pd.read_csv(train_path, index_col='PassengerId')\n",
    "test_df = pd.read_csv(test_path, index_col='PassengerId')\n",
    "\n",
    "print('Train size: ', train_df.shape)\n",
    "print('Test size: ', test_df.shape)\n",
    "\n",
    "train_df.head()"
   ]
  },
  {
   "cell_type": "markdown",
   "metadata": {},
   "source": [
    "Data is not really large. There are only 891 rows in train set and 418 rows in the test set. Comparing to other datasets that are used in machine learning it is REALLY tine. There are 11 columns. The goal is simple - we want to develop the algorith that uses 10 features and predict target (Survived)."
   ]
  },
  {
   "cell_type": "code",
   "execution_count": 15,
   "metadata": {},
   "outputs": [
    {
     "name": "stdout",
     "output_type": "stream",
     "text": [
      "Train data\n",
      "Cabin       3.367647\n",
      "Age         0.247899\n",
      "Embarked    0.002250\n",
      "dtype: float64\n",
      "\n",
      "Test data\n",
      "Cabin    3.593407\n",
      "Age      0.259036\n",
      "Fare     0.002398\n",
      "dtype: float64\n",
      "\n"
     ]
    }
   ],
   "source": [
    "title = ['Train data', 'Test data']\n",
    "for i, dataset in enumerate([train_df, test_df]):\n",
    "    print(title[i])\n",
    "    null_values = dataset.isna().sum() / dataset.count()\n",
    "    print(null_values[null_values > 0].sort_values(ascending=False))\n",
    "    print()"
   ]
  },
  {
   "cell_type": "markdown",
   "metadata": {},
   "source": [
    "We have a few null values but not too much. \n",
    "\n",
    "Generallly we should not look at test data before evaluating a final model. However checking null values is an exemption. Most of machine learning model expect data with no null values and it is important to solve that problem.\n",
    "\n",
    "**Exploratory Data Analysis**\n",
    "\n",
    "The purpose of this notebook is to predict whether a passanger survived or not. It always good to look at a target columns and see the distribution or like in this example pie chart."
   ]
  },
  {
   "cell_type": "code",
   "execution_count": 4,
   "metadata": {},
   "outputs": [
    {
     "data": {
      "image/png": "[encoded data removed]",
      "text/plain": [
       "<Figure size 1296x432 with 2 Axes>"
      ]
     },
     "metadata": {},
     "output_type": "display_data"
    }
   ],
   "source": [
    "fig, axes = plt.subplots(1, 2, figsize=(18,6))\n",
    "train_df['Survived'].value_counts().plot.pie(shadow=True, labels=['Dead', 'Alive'], autopct='%1.1f%%', ax=axes[0])\n",
    "axes[0].set_title('Survivorship rate', fontsize=20)\n",
    "\n",
    "sns.countplot(x='Survived', hue='Sex', data=train_df, ax=axes[1])\n",
    "axes[1].set_title('Survivorship by sex', fontsize=20);"
   ]
  },
  {
   "cell_type": "markdown",
   "metadata": {},
   "source": [
    "Unfortunately most people died. Out of 891 people in train data 61.6% people died. On titanic cruise there were more men than women. Suprisingly most people who survived were women. It shows that women had a priority during rescue. There were real gentlemen."
   ]
  },
  {
   "cell_type": "code",
   "execution_count": 20,
   "metadata": {},
   "outputs": [
    {
     "data": {
      "text/plain": [
       "<matplotlib.axes._subplots.AxesSubplot at 0x22b83869c08>"
      ]
     },
     "execution_count": 20,
     "metadata": {},
     "output_type": "execute_result"
    },
    {
     "data": {
      "image/png": "[encoded data removed]",
      "text/plain": [
       "<Figure size 1152x360 with 2 Axes>"
      ]
     },
     "metadata": {},
     "output_type": "display_data"
    }
   ],
   "source": [
    "fig, (ax1, ax2) = plt.subplots(1, 2, figsize=(16, 5))\n",
    "\n",
    "kde_kwargs=dict(hist_kws=dict(edgecolor='none'),\n",
    "                kde_kws={\"shade\": True})\n",
    "\n",
    "age_alive = train_df.loc[train_df['Survived'] == 1]\n",
    "age_dead = train_df.loc[train_df['Survived'] == 0]\n",
    "\n",
    "sns.distplot(age_alive['Age'], label='Alive', ax=ax1, **kde_kwargs)\n",
    "sns.distplot(age_dead['Age'], label='Dead', ax=ax1, **kde_kwargs)\n",
    "sns.violinplot(y='Age', x='Sex', hue='Survived', data=train_df, ax=ax2)"
   ]
  },
  {
   "cell_type": "markdown",
   "metadata": {},
   "source": [
    "Children first!!! It is clear that most of especially young people survived. Most of passangers where in their 20s"
   ]
  },
  {
   "cell_type": "markdown",
   "metadata": {},
   "source": [
    "We can see the relationship between Sex, Age and Survivorship in the same time. We can see that especially young man died. It is not true for women."
   ]
  },
  {
   "cell_type": "code",
   "execution_count": 21,
   "metadata": {},
   "outputs": [
    {
     "data": {
      "image/png": "[encoded data removed]",
      "text/plain": [
       "<Figure size 1152x432 with 2 Axes>"
      ]
     },
     "metadata": {},
     "output_type": "display_data"
    }
   ],
   "source": [
    "fig = plt.figure(figsize=(16, 6))\n",
    "grid = plt.GridSpec(1, 5)\n",
    "\n",
    "ax1 = fig.add_subplot(grid[0, 0:2])\n",
    "ax2 = fig.add_subplot(grid[0, 2:])\n",
    "\n",
    "sns.countplot(x='Pclass', hue='Survived', data=train_df, ax=ax1)\n",
    "ax1.set_title('Survivorship by Pclass', fontsize=16)\n",
    "\n",
    "train_df['Fare_cat'] = pd.qcut(train_df['Fare'], q=20, labels=False)\n",
    "temp = train_df.groupby('Fare_cat')['Survived'].mean()\n",
    "sns.regplot(x=temp.index, y=temp.values, ax=ax2)\n",
    "ax2.set_title('Survivorship by Fare category', fontsize=16);"
   ]
  },
  {
   "cell_type": "code",
   "execution_count": 31,
   "metadata": {},
   "outputs": [
    {
     "data": {
      "text/plain": [
       "<matplotlib.axes._subplots.AxesSubplot at 0x22b84e51388>"
      ]
     },
     "execution_count": 31,
     "metadata": {},
     "output_type": "execute_result"
    },
    {
     "data": {
      "image/png": "[encoded data removed]",
      "text/plain": [
       "<Figure size 432x288 with 1 Axes>"
      ]
     },
     "metadata": {},
     "output_type": "display_data"
    }
   ],
   "source": [
    "sns.barplot(x='SibSp', y='Survived', data=train_df)"
   ]
  },
  {
   "cell_type": "code",
   "execution_count": 30,
   "metadata": {},
   "outputs": [
    {
     "data": {
      "text/plain": [
       "<matplotlib.axes._subplots.AxesSubplot at 0x22b84dcda08>"
      ]
     },
     "execution_count": 30,
     "metadata": {},
     "output_type": "execute_result"
    },
    {
     "data": {
      "image/png": "[encoded data removed]",
      "text/plain": [
       "<Figure size 432x288 with 1 Axes>"
      ]
     },
     "metadata": {},
     "output_type": "display_data"
    }
   ],
   "source": [
    "sns.barplot(x='Parch', y='Survived', data=train_df)"
   ]
  },
  {
   "cell_type": "markdown",
   "metadata": {},
   "source": [
    "Accoring to documentation Parch defines family relations in this way:\n",
    "* Parent = mother, father\n",
    "* Child = daughter, son, stepdaughter, stepson\n",
    "* Some children travelled only with a nanny, therefore parch=0 for them."
   ]
  },
  {
   "cell_type": "code",
   "execution_count": 32,
   "metadata": {},
   "outputs": [
    {
     "data": {
      "text/html": [
       "<div>\n",
       "<style scoped>\n",
       "    .dataframe tbody tr th:only-of-type {\n",
       "        vertical-align: middle;\n",
       "    }\n",
       "\n",
       "    .dataframe tbody tr th {\n",
       "        vertical-align: top;\n",
       "    }\n",
       "\n",
       "    .dataframe thead th {\n",
       "        text-align: right;\n",
       "    }\n",
       "</style>\n",
       "<table border=\"1\" class=\"dataframe\">\n",
       "  <thead>\n",
       "    <tr style=\"text-align: right;\">\n",
       "      <th></th>\n",
       "      <th>Survived</th>\n",
       "      <th>Pclass</th>\n",
       "      <th>Name</th>\n",
       "      <th>Sex</th>\n",
       "      <th>Age</th>\n",
       "      <th>SibSp</th>\n",
       "      <th>Parch</th>\n",
       "      <th>Ticket</th>\n",
       "      <th>Fare</th>\n",
       "      <th>Cabin</th>\n",
       "      <th>Embarked</th>\n",
       "      <th>Fare_cat</th>\n",
       "    </tr>\n",
       "    <tr>\n",
       "      <th>PassengerId</th>\n",
       "      <th></th>\n",
       "      <th></th>\n",
       "      <th></th>\n",
       "      <th></th>\n",
       "      <th></th>\n",
       "      <th></th>\n",
       "      <th></th>\n",
       "      <th></th>\n",
       "      <th></th>\n",
       "      <th></th>\n",
       "      <th></th>\n",
       "      <th></th>\n",
       "    </tr>\n",
       "  </thead>\n",
       "  <tbody>\n",
       "    <tr>\n",
       "      <th>1</th>\n",
       "      <td>0</td>\n",
       "      <td>3</td>\n",
       "      <td>Braund, Mr. Owen Harris</td>\n",
       "      <td>male</td>\n",
       "      <td>22.0</td>\n",
       "      <td>1</td>\n",
       "      <td>0</td>\n",
       "      <td>A/5 21171</td>\n",
       "      <td>7.2500</td>\n",
       "      <td>NaN</td>\n",
       "      <td>S</td>\n",
       "      <td>1</td>\n",
       "    </tr>\n",
       "    <tr>\n",
       "      <th>2</th>\n",
       "      <td>1</td>\n",
       "      <td>1</td>\n",
       "      <td>Cumings, Mrs. John Bradley (Florence Briggs Th...</td>\n",
       "      <td>female</td>\n",
       "      <td>38.0</td>\n",
       "      <td>1</td>\n",
       "      <td>0</td>\n",
       "      <td>PC 17599</td>\n",
       "      <td>71.2833</td>\n",
       "      <td>C85</td>\n",
       "      <td>C</td>\n",
       "      <td>17</td>\n",
       "    </tr>\n",
       "    <tr>\n",
       "      <th>3</th>\n",
       "      <td>1</td>\n",
       "      <td>3</td>\n",
       "      <td>Heikkinen, Miss. Laina</td>\n",
       "      <td>female</td>\n",
       "      <td>26.0</td>\n",
       "      <td>0</td>\n",
       "      <td>0</td>\n",
       "      <td>STON/O2. 3101282</td>\n",
       "      <td>7.9250</td>\n",
       "      <td>NaN</td>\n",
       "      <td>S</td>\n",
       "      <td>5</td>\n",
       "    </tr>\n",
       "    <tr>\n",
       "      <th>4</th>\n",
       "      <td>1</td>\n",
       "      <td>1</td>\n",
       "      <td>Futrelle, Mrs. Jacques Heath (Lily May Peel)</td>\n",
       "      <td>female</td>\n",
       "      <td>35.0</td>\n",
       "      <td>1</td>\n",
       "      <td>0</td>\n",
       "      <td>113803</td>\n",
       "      <td>53.1000</td>\n",
       "      <td>C123</td>\n",
       "      <td>S</td>\n",
       "      <td>16</td>\n",
       "    </tr>\n",
       "    <tr>\n",
       "      <th>5</th>\n",
       "      <td>0</td>\n",
       "      <td>3</td>\n",
       "      <td>Allen, Mr. William Henry</td>\n",
       "      <td>male</td>\n",
       "      <td>35.0</td>\n",
       "      <td>0</td>\n",
       "      <td>0</td>\n",
       "      <td>373450</td>\n",
       "      <td>8.0500</td>\n",
       "      <td>NaN</td>\n",
       "      <td>S</td>\n",
       "      <td>5</td>\n",
       "    </tr>\n",
       "  </tbody>\n",
       "</table>\n",
       "</div>"
      ],
      "text/plain": [
       "             Survived  Pclass  \\\n",
       "PassengerId                     \n",
       "1                   0       3   \n",
       "2                   1       1   \n",
       "3                   1       3   \n",
       "4                   1       1   \n",
       "5                   0       3   \n",
       "\n",
       "                                                          Name     Sex   Age  \\\n",
       "PassengerId                                                                    \n",
       "1                                      Braund, Mr. Owen Harris    male  22.0   \n",
       "2            Cumings, Mrs. John Bradley (Florence Briggs Th...  female  38.0   \n",
       "3                                       Heikkinen, Miss. Laina  female  26.0   \n",
       "4                 Futrelle, Mrs. Jacques Heath (Lily May Peel)  female  35.0   \n",
       "5                                     Allen, Mr. William Henry    male  35.0   \n",
       "\n",
       "             SibSp  Parch            Ticket     Fare Cabin Embarked  Fare_cat  \n",
       "PassengerId                                                                    \n",
       "1                1      0         A/5 21171   7.2500   NaN        S         1  \n",
       "2                1      0          PC 17599  71.2833   C85        C        17  \n",
       "3                0      0  STON/O2. 3101282   7.9250   NaN        S         5  \n",
       "4                1      0            113803  53.1000  C123        S        16  \n",
       "5                0      0            373450   8.0500   NaN        S         5  "
      ]
     },
     "execution_count": 32,
     "metadata": {},
     "output_type": "execute_result"
    }
   ],
   "source": [
    "train_df['Age'"
   ]
  },
  {
   "cell_type": "code",
   "execution_count": 36,
   "metadata": {},
   "outputs": [
    {
     "data": {
      "text/plain": [
       "<matplotlib.axes._subplots.AxesSubplot at 0x22b84fb0088>"
      ]
     },
     "execution_count": 36,
     "metadata": {},
     "output_type": "execute_result"
    },
    {
     "data": {
      "image/png": "[encoded data removed]",
      "text/plain": [
       "<Figure size 432x288 with 1 Axes>"
      ]
     },
     "metadata": {},
     "output_type": "display_data"
    }
   ],
   "source": [
    "child_survived = train_df.loc[train_df['Age'] < 15].groupby('Parch')['Survived'].mean()\n",
    "child_survived.plot(kind='bar')"
   ]
  },
  {
   "cell_type": "markdown",
   "metadata": {},
   "source": [
    "During the cruise it was better to be richer than poorer. It seems that people who decieded to pay more the the cruise had more chances to survive."
   ]
  },
  {
   "cell_type": "code",
   "execution_count": 8,
   "metadata": {},
   "outputs": [
    {
     "data": {
      "text/plain": [
       "<seaborn.axisgrid.FacetGrid at 0x2971d93f988>"
      ]
     },
     "execution_count": 8,
     "metadata": {},
     "output_type": "execute_result"
    },
    {
     "data": {
      "image/png": "[encoded data removed]",
      "text/plain": [
       "<Figure size 432x648 with 6 Axes>"
      ]
     },
     "metadata": {},
     "output_type": "display_data"
    }
   ],
   "source": [
    "grid = sns.FacetGrid(data=train_df, row='Embarked', col='Survived')\n",
    "grid.map(plt.hist, 'Age')"
   ]
  },
  {
   "cell_type": "code",
   "execution_count": 9,
   "metadata": {},
   "outputs": [
    {
     "data": {
      "text/plain": [
       "<matplotlib.axes._subplots.AxesSubplot at 0x2971e603e08>"
      ]
     },
     "execution_count": 9,
     "metadata": {},
     "output_type": "execute_result"
    },
    {
     "data": {
      "image/png": "[encoded data removed]",
      "text/plain": [
       "<Figure size 432x288 with 1 Axes>"
      ]
     },
     "metadata": {},
     "output_type": "display_data"
    }
   ],
   "source": [
    "temp = train_df.groupby('Embarked')['Survived'].mean()\n",
    "temp.plot(kind='bar')"
   ]
  },
  {
   "cell_type": "code",
   "execution_count": 10,
   "metadata": {},
   "outputs": [
    {
     "data": {
      "text/plain": [
       "<matplotlib.axes._subplots.AxesSubplot at 0x2971e7cfe48>"
      ]
     },
     "execution_count": 10,
     "metadata": {},
     "output_type": "execute_result"
    },
    {
     "data": {
      "image/png": "[encoded data removed]",
      "text/plain": [
       "<Figure size 1152x432 with 2 Axes>"
      ]
     },
     "metadata": {},
     "output_type": "display_data"
    }
   ],
   "source": [
    "fig, axes = plt.subplots(1, 2, figsize=(16,6))\n",
    "temp = train_df.groupby('SibSp')['Survived'].mean()\n",
    "temp.plot(kind='bar', ax=axes[0])\n",
    "\n",
    "temp = train_df.groupby('Parch')['Survived'].mean()\n",
    "temp.plot(kind='bar', ax=axes[1])"
   ]
  },
  {
   "cell_type": "code",
   "execution_count": 11,
   "metadata": {},
   "outputs": [
    {
     "data": {
      "text/plain": [
       "PassengerId\n",
       "1                                Braund, Mr. Owen Harris\n",
       "2      Cumings, Mrs. John Bradley (Florence Briggs Th...\n",
       "3                                 Heikkinen, Miss. Laina\n",
       "4           Futrelle, Mrs. Jacques Heath (Lily May Peel)\n",
       "5                               Allen, Mr. William Henry\n",
       "                             ...                        \n",
       "887                                Montvila, Rev. Juozas\n",
       "888                         Graham, Miss. Margaret Edith\n",
       "889             Johnston, Miss. Catherine Helen \"Carrie\"\n",
       "890                                Behr, Mr. Karl Howell\n",
       "891                                  Dooley, Mr. Patrick\n",
       "Name: Name, Length: 891, dtype: object"
      ]
     },
     "execution_count": 11,
     "metadata": {},
     "output_type": "execute_result"
    }
   ],
   "source": [
    "titles = ['Mr', 'Miss', 'Mrs', 'Lady']\n",
    "train_df['Name']"
   ]
  },
  {
   "cell_type": "markdown",
   "metadata": {},
   "source": [
    "**Preprocessing**\n",
    "\n",
    "After getting know data. It is time for processing and feature engineering."
   ]
  },
  {
   "cell_type": "code",
   "execution_count": 12,
   "metadata": {},
   "outputs": [
    {
     "data": {
      "text/html": [
       "<div>\n",
       "<style scoped>\n",
       "    .dataframe tbody tr th:only-of-type {\n",
       "        vertical-align: middle;\n",
       "    }\n",
       "\n",
       "    .dataframe tbody tr th {\n",
       "        vertical-align: top;\n",
       "    }\n",
       "\n",
       "    .dataframe thead th {\n",
       "        text-align: right;\n",
       "    }\n",
       "</style>\n",
       "<table border=\"1\" class=\"dataframe\">\n",
       "  <thead>\n",
       "    <tr style=\"text-align: right;\">\n",
       "      <th></th>\n",
       "      <th>Survived</th>\n",
       "      <th>Pclass</th>\n",
       "      <th>Name</th>\n",
       "      <th>Sex</th>\n",
       "      <th>Age</th>\n",
       "      <th>SibSp</th>\n",
       "      <th>Parch</th>\n",
       "      <th>Ticket</th>\n",
       "      <th>Fare</th>\n",
       "      <th>Cabin</th>\n",
       "      <th>Embarked</th>\n",
       "      <th>Fare_cat</th>\n",
       "    </tr>\n",
       "    <tr>\n",
       "      <th>PassengerId</th>\n",
       "      <th></th>\n",
       "      <th></th>\n",
       "      <th></th>\n",
       "      <th></th>\n",
       "      <th></th>\n",
       "      <th></th>\n",
       "      <th></th>\n",
       "      <th></th>\n",
       "      <th></th>\n",
       "      <th></th>\n",
       "      <th></th>\n",
       "      <th></th>\n",
       "    </tr>\n",
       "  </thead>\n",
       "  <tbody>\n",
       "    <tr>\n",
       "      <th>1</th>\n",
       "      <td>0</td>\n",
       "      <td>3</td>\n",
       "      <td>Braund, Mr. Owen Harris</td>\n",
       "      <td>male</td>\n",
       "      <td>22.0</td>\n",
       "      <td>1</td>\n",
       "      <td>0</td>\n",
       "      <td>A/5 21171</td>\n",
       "      <td>7.2500</td>\n",
       "      <td>NaN</td>\n",
       "      <td>S</td>\n",
       "      <td>1</td>\n",
       "    </tr>\n",
       "    <tr>\n",
       "      <th>2</th>\n",
       "      <td>1</td>\n",
       "      <td>1</td>\n",
       "      <td>Cumings, Mrs. John Bradley (Florence Briggs Th...</td>\n",
       "      <td>female</td>\n",
       "      <td>38.0</td>\n",
       "      <td>1</td>\n",
       "      <td>0</td>\n",
       "      <td>PC 17599</td>\n",
       "      <td>71.2833</td>\n",
       "      <td>C85</td>\n",
       "      <td>C</td>\n",
       "      <td>17</td>\n",
       "    </tr>\n",
       "    <tr>\n",
       "      <th>3</th>\n",
       "      <td>1</td>\n",
       "      <td>3</td>\n",
       "      <td>Heikkinen, Miss. Laina</td>\n",
       "      <td>female</td>\n",
       "      <td>26.0</td>\n",
       "      <td>0</td>\n",
       "      <td>0</td>\n",
       "      <td>STON/O2. 3101282</td>\n",
       "      <td>7.9250</td>\n",
       "      <td>NaN</td>\n",
       "      <td>S</td>\n",
       "      <td>5</td>\n",
       "    </tr>\n",
       "    <tr>\n",
       "      <th>4</th>\n",
       "      <td>1</td>\n",
       "      <td>1</td>\n",
       "      <td>Futrelle, Mrs. Jacques Heath (Lily May Peel)</td>\n",
       "      <td>female</td>\n",
       "      <td>35.0</td>\n",
       "      <td>1</td>\n",
       "      <td>0</td>\n",
       "      <td>113803</td>\n",
       "      <td>53.1000</td>\n",
       "      <td>C123</td>\n",
       "      <td>S</td>\n",
       "      <td>16</td>\n",
       "    </tr>\n",
       "    <tr>\n",
       "      <th>5</th>\n",
       "      <td>0</td>\n",
       "      <td>3</td>\n",
       "      <td>Allen, Mr. William Henry</td>\n",
       "      <td>male</td>\n",
       "      <td>35.0</td>\n",
       "      <td>0</td>\n",
       "      <td>0</td>\n",
       "      <td>373450</td>\n",
       "      <td>8.0500</td>\n",
       "      <td>NaN</td>\n",
       "      <td>S</td>\n",
       "      <td>5</td>\n",
       "    </tr>\n",
       "  </tbody>\n",
       "</table>\n",
       "</div>"
      ],
      "text/plain": [
       "             Survived  Pclass  \\\n",
       "PassengerId                     \n",
       "1                   0       3   \n",
       "2                   1       1   \n",
       "3                   1       3   \n",
       "4                   1       1   \n",
       "5                   0       3   \n",
       "\n",
       "                                                          Name     Sex   Age  \\\n",
       "PassengerId                                                                    \n",
       "1                                      Braund, Mr. Owen Harris    male  22.0   \n",
       "2            Cumings, Mrs. John Bradley (Florence Briggs Th...  female  38.0   \n",
       "3                                       Heikkinen, Miss. Laina  female  26.0   \n",
       "4                 Futrelle, Mrs. Jacques Heath (Lily May Peel)  female  35.0   \n",
       "5                                     Allen, Mr. William Henry    male  35.0   \n",
       "\n",
       "             SibSp  Parch            Ticket     Fare Cabin Embarked  Fare_cat  \n",
       "PassengerId                                                                    \n",
       "1                1      0         A/5 21171   7.2500   NaN        S         1  \n",
       "2                1      0          PC 17599  71.2833   C85        C        17  \n",
       "3                0      0  STON/O2. 3101282   7.9250   NaN        S         5  \n",
       "4                1      0            113803  53.1000  C123        S        16  \n",
       "5                0      0            373450   8.0500   NaN        S         5  "
      ]
     },
     "execution_count": 12,
     "metadata": {},
     "output_type": "execute_result"
    }
   ],
   "source": [
    "train_df.head()"
   ]
  },
  {
   "cell_type": "code",
   "execution_count": 13,
   "metadata": {},
   "outputs": [],
   "source": [
    "from sklearn.impute import SimpleImputer \n",
    "num_cols = ['Pclass', 'Age', 'SibSp', 'Parch', 'Fare']\n",
    "cat_cols = ['Sex', 'Embarked']"
   ]
  },
  {
   "cell_type": "code",
   "execution_count": 14,
   "metadata": {},
   "outputs": [],
   "source": [
    "num_imputer = SimpleImputer(strategy='mean')\n",
    "num_df = train_df[num_cols]\n",
    "num_df = num_imputer.fit_transform(num_df)\n",
    "num_df = pd.DataFrame(num_df, columns=num_cols)"
   ]
  },
  {
   "cell_type": "code",
   "execution_count": 15,
   "metadata": {},
   "outputs": [],
   "source": [
    "cat_imputer = SimpleImputer(strategy='most_frequent')\n",
    "cat_df = train_df[cat_cols]\n",
    "cat_df = cat_imputer.fit_transform(cat_df)\n",
    "cat_df = pd.DataFrame(cat_df, columns=cat_cols)\n",
    "cat_df = pd.get_dummies(cat_df)\n",
    "result = num_df.join(cat_df)"
   ]
  },
  {
   "cell_type": "markdown",
   "metadata": {},
   "source": [
    "Machine learning"
   ]
  },
  {
   "cell_type": "code",
   "execution_count": 20,
   "metadata": {},
   "outputs": [],
   "source": [
    "X = result.values\n",
    "Y = train_df['Survived']"
   ]
  },
  {
   "cell_type": "code",
   "execution_count": 36,
   "metadata": {},
   "outputs": [
    {
     "name": "stdout",
     "output_type": "stream",
     "text": [
      "Fitting 10 folds for each of 24 candidates, totalling 240 fits\n",
      "[CV] criterion=gini, max_depth=8, n_estimators=3, random_state=42 ....\n",
      "[CV]  criterion=gini, max_depth=8, n_estimators=3, random_state=42, total=   0.0s\n",
      "[CV] criterion=gini, max_depth=8, n_estimators=3, random_state=42 ....\n",
      "[CV]  criterion=gini, max_depth=8, n_estimators=3, random_state=42, total=   0.0s\n",
      "[CV] criterion=gini, max_depth=8, n_estimators=3, random_state=42 ....\n",
      "[CV]  criterion=gini, max_depth=8, n_estimators=3, random_state=42, total=   0.0s\n",
      "[CV] criterion=gini, max_depth=8, n_estimators=3, random_state=42 ....\n",
      "[CV]  criterion=gini, max_depth=8, n_estimators=3, random_state=42, total=   0.0s\n",
      "[CV] criterion=gini, max_depth=8, n_estimators=3, random_state=42 ....\n",
      "[CV]  criterion=gini, max_depth=8, n_estimators=3, random_state=42, total=   0.0s\n",
      "[CV] criterion=gini, max_depth=8, n_estimators=3, random_state=42 ....\n",
      "[CV]  criterion=gini, max_depth=8, n_estimators=3, random_state=42, total=   0.0s\n",
      "[CV] criterion=gini, max_depth=8, n_estimators=3, random_state=42 ....\n",
      "[CV]  criterion=gini, max_depth=8, n_estimators=3, random_state=42, total=   0.0s\n",
      "[CV] criterion=gini, max_depth=8, n_estimators=3, random_state=42 ....\n",
      "[CV]  criterion=gini, max_depth=8, n_estimators=3, random_state=42, total=   0.0s\n",
      "[CV] criterion=gini, max_depth=8, n_estimators=3, random_state=42 ....\n",
      "[CV]  criterion=gini, max_depth=8, n_estimators=3, random_state=42, total=   0.0s\n",
      "[CV] criterion=gini, max_depth=8, n_estimators=3, random_state=42 ....\n",
      "[CV]  criterion=gini, max_depth=8, n_estimators=3, random_state=42, total=   0.0s\n",
      "[CV] criterion=gini, max_depth=8, n_estimators=30, random_state=42 ...\n"
     ]
    },
    {
     "name": "stderr",
     "output_type": "stream",
     "text": [
      "[Parallel(n_jobs=1)]: Using backend SequentialBackend with 1 concurrent workers.\n",
      "[Parallel(n_jobs=1)]: Done   1 out of   1 | elapsed:    0.0s remaining:    0.0s\n"
     ]
    },
    {
     "name": "stdout",
     "output_type": "stream",
     "text": [
      "[CV]  criterion=gini, max_depth=8, n_estimators=30, random_state=42, total=   0.1s\n",
      "[CV] criterion=gini, max_depth=8, n_estimators=30, random_state=42 ...\n",
      "[CV]  criterion=gini, max_depth=8, n_estimators=30, random_state=42, total=   0.2s\n",
      "[CV] criterion=gini, max_depth=8, n_estimators=30, random_state=42 ...\n",
      "[CV]  criterion=gini, max_depth=8, n_estimators=30, random_state=42, total=   0.2s\n",
      "[CV] criterion=gini, max_depth=8, n_estimators=30, random_state=42 ...\n",
      "[CV]  criterion=gini, max_depth=8, n_estimators=30, random_state=42, total=   0.2s\n",
      "[CV] criterion=gini, max_depth=8, n_estimators=30, random_state=42 ...\n",
      "[CV]  criterion=gini, max_depth=8, n_estimators=30, random_state=42, total=   0.2s\n",
      "[CV] criterion=gini, max_depth=8, n_estimators=30, random_state=42 ...\n",
      "[CV]  criterion=gini, max_depth=8, n_estimators=30, random_state=42, total=   0.3s\n",
      "[CV] criterion=gini, max_depth=8, n_estimators=30, random_state=42 ...\n",
      "[CV]  criterion=gini, max_depth=8, n_estimators=30, random_state=42, total=   0.2s\n",
      "[CV] criterion=gini, max_depth=8, n_estimators=30, random_state=42 ...\n",
      "[CV]  criterion=gini, max_depth=8, n_estimators=30, random_state=42, total=   0.2s\n",
      "[CV] criterion=gini, max_depth=8, n_estimators=30, random_state=42 ...\n",
      "[CV]  criterion=gini, max_depth=8, n_estimators=30, random_state=42, total=   0.2s\n",
      "[CV] criterion=gini, max_depth=8, n_estimators=30, random_state=42 ...\n",
      "[CV]  criterion=gini, max_depth=8, n_estimators=30, random_state=42, total=   0.1s\n",
      "[CV] criterion=gini, max_depth=8, n_estimators=100, random_state=42 ..\n",
      "[CV]  criterion=gini, max_depth=8, n_estimators=100, random_state=42, total=   0.5s\n",
      "[CV] criterion=gini, max_depth=8, n_estimators=100, random_state=42 ..\n",
      "[CV]  criterion=gini, max_depth=8, n_estimators=100, random_state=42, total=   0.3s\n",
      "[CV] criterion=gini, max_depth=8, n_estimators=100, random_state=42 ..\n",
      "[CV]  criterion=gini, max_depth=8, n_estimators=100, random_state=42, total=   0.5s\n",
      "[CV] criterion=gini, max_depth=8, n_estimators=100, random_state=42 ..\n",
      "[CV]  criterion=gini, max_depth=8, n_estimators=100, random_state=42, total=   0.3s\n",
      "[CV] criterion=gini, max_depth=8, n_estimators=100, random_state=42 ..\n",
      "[CV]  criterion=gini, max_depth=8, n_estimators=100, random_state=42, total=   0.3s\n",
      "[CV] criterion=gini, max_depth=8, n_estimators=100, random_state=42 ..\n",
      "[CV]  criterion=gini, max_depth=8, n_estimators=100, random_state=42, total=   0.3s\n",
      "[CV] criterion=gini, max_depth=8, n_estimators=100, random_state=42 ..\n",
      "[CV]  criterion=gini, max_depth=8, n_estimators=100, random_state=42, total=   0.4s\n",
      "[CV] criterion=gini, max_depth=8, n_estimators=100, random_state=42 ..\n",
      "[CV]  criterion=gini, max_depth=8, n_estimators=100, random_state=42, total=   0.3s\n",
      "[CV] criterion=gini, max_depth=8, n_estimators=100, random_state=42 ..\n",
      "[CV]  criterion=gini, max_depth=8, n_estimators=100, random_state=42, total=   0.5s\n",
      "[CV] criterion=gini, max_depth=8, n_estimators=100, random_state=42 ..\n",
      "[CV]  criterion=gini, max_depth=8, n_estimators=100, random_state=42, total=   0.5s\n",
      "[CV] criterion=gini, max_depth=8, n_estimators=150, random_state=42 ..\n",
      "[CV]  criterion=gini, max_depth=8, n_estimators=150, random_state=42, total=   0.8s\n",
      "[CV] criterion=gini, max_depth=8, n_estimators=150, random_state=42 ..\n",
      "[CV]  criterion=gini, max_depth=8, n_estimators=150, random_state=42, total=   0.9s\n",
      "[CV] criterion=gini, max_depth=8, n_estimators=150, random_state=42 ..\n",
      "[CV]  criterion=gini, max_depth=8, n_estimators=150, random_state=42, total=   0.9s\n",
      "[CV] criterion=gini, max_depth=8, n_estimators=150, random_state=42 ..\n",
      "[CV]  criterion=gini, max_depth=8, n_estimators=150, random_state=42, total=   0.6s\n",
      "[CV] criterion=gini, max_depth=8, n_estimators=150, random_state=42 ..\n",
      "[CV]  criterion=gini, max_depth=8, n_estimators=150, random_state=42, total=   0.6s\n",
      "[CV] criterion=gini, max_depth=8, n_estimators=150, random_state=42 ..\n",
      "[CV]  criterion=gini, max_depth=8, n_estimators=150, random_state=42, total=   0.6s\n",
      "[CV] criterion=gini, max_depth=8, n_estimators=150, random_state=42 ..\n",
      "[CV]  criterion=gini, max_depth=8, n_estimators=150, random_state=42, total=   0.7s\n",
      "[CV] criterion=gini, max_depth=8, n_estimators=150, random_state=42 ..\n",
      "[CV]  criterion=gini, max_depth=8, n_estimators=150, random_state=42, total=   0.7s\n",
      "[CV] criterion=gini, max_depth=8, n_estimators=150, random_state=42 ..\n",
      "[CV]  criterion=gini, max_depth=8, n_estimators=150, random_state=42, total=   0.6s\n",
      "[CV] criterion=gini, max_depth=8, n_estimators=150, random_state=42 ..\n",
      "[CV]  criterion=gini, max_depth=8, n_estimators=150, random_state=42, total=   0.6s\n",
      "[CV] criterion=gini, max_depth=9, n_estimators=3, random_state=42 ....\n",
      "[CV]  criterion=gini, max_depth=9, n_estimators=3, random_state=42, total=   0.0s\n",
      "[CV] criterion=gini, max_depth=9, n_estimators=3, random_state=42 ....\n",
      "[CV]  criterion=gini, max_depth=9, n_estimators=3, random_state=42, total=   0.0s\n",
      "[CV] criterion=gini, max_depth=9, n_estimators=3, random_state=42 ....\n",
      "[CV]  criterion=gini, max_depth=9, n_estimators=3, random_state=42, total=   0.0s\n",
      "[CV] criterion=gini, max_depth=9, n_estimators=3, random_state=42 ....\n",
      "[CV]  criterion=gini, max_depth=9, n_estimators=3, random_state=42, total=   0.0s\n",
      "[CV] criterion=gini, max_depth=9, n_estimators=3, random_state=42 ....\n",
      "[CV]  criterion=gini, max_depth=9, n_estimators=3, random_state=42, total=   0.0s\n",
      "[CV] criterion=gini, max_depth=9, n_estimators=3, random_state=42 ....\n",
      "[CV]  criterion=gini, max_depth=9, n_estimators=3, random_state=42, total=   0.0s\n",
      "[CV] criterion=gini, max_depth=9, n_estimators=3, random_state=42 ....\n",
      "[CV]  criterion=gini, max_depth=9, n_estimators=3, random_state=42, total=   0.0s\n",
      "[CV] criterion=gini, max_depth=9, n_estimators=3, random_state=42 ....\n",
      "[CV]  criterion=gini, max_depth=9, n_estimators=3, random_state=42, total=   0.0s\n",
      "[CV] criterion=gini, max_depth=9, n_estimators=3, random_state=42 ....\n",
      "[CV]  criterion=gini, max_depth=9, n_estimators=3, random_state=42, total=   0.0s\n",
      "[CV] criterion=gini, max_depth=9, n_estimators=3, random_state=42 ....\n",
      "[CV]  criterion=gini, max_depth=9, n_estimators=3, random_state=42, total=   0.0s\n",
      "[CV] criterion=gini, max_depth=9, n_estimators=30, random_state=42 ...\n",
      "[CV]  criterion=gini, max_depth=9, n_estimators=30, random_state=42, total=   0.1s\n",
      "[CV] criterion=gini, max_depth=9, n_estimators=30, random_state=42 ...\n",
      "[CV]  criterion=gini, max_depth=9, n_estimators=30, random_state=42, total=   0.1s\n",
      "[CV] criterion=gini, max_depth=9, n_estimators=30, random_state=42 ...\n",
      "[CV]  criterion=gini, max_depth=9, n_estimators=30, random_state=42, total=   0.1s\n",
      "[CV] criterion=gini, max_depth=9, n_estimators=30, random_state=42 ...\n",
      "[CV]  criterion=gini, max_depth=9, n_estimators=30, random_state=42, total=   0.2s\n",
      "[CV] criterion=gini, max_depth=9, n_estimators=30, random_state=42 ...\n",
      "[CV]  criterion=gini, max_depth=9, n_estimators=30, random_state=42, total=   0.1s\n",
      "[CV] criterion=gini, max_depth=9, n_estimators=30, random_state=42 ...\n",
      "[CV]  criterion=gini, max_depth=9, n_estimators=30, random_state=42, total=   0.1s\n",
      "[CV] criterion=gini, max_depth=9, n_estimators=30, random_state=42 ...\n",
      "[CV]  criterion=gini, max_depth=9, n_estimators=30, random_state=42, total=   0.1s\n",
      "[CV] criterion=gini, max_depth=9, n_estimators=30, random_state=42 ...\n",
      "[CV]  criterion=gini, max_depth=9, n_estimators=30, random_state=42, total=   0.1s\n",
      "[CV] criterion=gini, max_depth=9, n_estimators=30, random_state=42 ...\n",
      "[CV]  criterion=gini, max_depth=9, n_estimators=30, random_state=42, total=   0.1s\n",
      "[CV] criterion=gini, max_depth=9, n_estimators=30, random_state=42 ...\n",
      "[CV]  criterion=gini, max_depth=9, n_estimators=30, random_state=42, total=   0.1s\n",
      "[CV] criterion=gini, max_depth=9, n_estimators=100, random_state=42 ..\n",
      "[CV]  criterion=gini, max_depth=9, n_estimators=100, random_state=42, total=   0.3s\n",
      "[CV] criterion=gini, max_depth=9, n_estimators=100, random_state=42 ..\n",
      "[CV]  criterion=gini, max_depth=9, n_estimators=100, random_state=42, total=   0.2s\n",
      "[CV] criterion=gini, max_depth=9, n_estimators=100, random_state=42 ..\n",
      "[CV]  criterion=gini, max_depth=9, n_estimators=100, random_state=42, total=   0.5s\n",
      "[CV] criterion=gini, max_depth=9, n_estimators=100, random_state=42 ..\n",
      "[CV]  criterion=gini, max_depth=9, n_estimators=100, random_state=42, total=   0.5s\n",
      "[CV] criterion=gini, max_depth=9, n_estimators=100, random_state=42 ..\n"
     ]
    },
    {
     "name": "stdout",
     "output_type": "stream",
     "text": [
      "[CV]  criterion=gini, max_depth=9, n_estimators=100, random_state=42, total=   0.4s\n",
      "[CV] criterion=gini, max_depth=9, n_estimators=100, random_state=42 ..\n",
      "[CV]  criterion=gini, max_depth=9, n_estimators=100, random_state=42, total=   0.6s\n",
      "[CV] criterion=gini, max_depth=9, n_estimators=100, random_state=42 ..\n",
      "[CV]  criterion=gini, max_depth=9, n_estimators=100, random_state=42, total=   0.4s\n",
      "[CV] criterion=gini, max_depth=9, n_estimators=100, random_state=42 ..\n",
      "[CV]  criterion=gini, max_depth=9, n_estimators=100, random_state=42, total=   0.4s\n",
      "[CV] criterion=gini, max_depth=9, n_estimators=100, random_state=42 ..\n",
      "[CV]  criterion=gini, max_depth=9, n_estimators=100, random_state=42, total=   0.4s\n",
      "[CV] criterion=gini, max_depth=9, n_estimators=100, random_state=42 ..\n",
      "[CV]  criterion=gini, max_depth=9, n_estimators=100, random_state=42, total=   0.3s\n",
      "[CV] criterion=gini, max_depth=9, n_estimators=150, random_state=42 ..\n",
      "[CV]  criterion=gini, max_depth=9, n_estimators=150, random_state=42, total=   0.7s\n",
      "[CV] criterion=gini, max_depth=9, n_estimators=150, random_state=42 ..\n",
      "[CV]  criterion=gini, max_depth=9, n_estimators=150, random_state=42, total=   0.8s\n",
      "[CV] criterion=gini, max_depth=9, n_estimators=150, random_state=42 ..\n",
      "[CV]  criterion=gini, max_depth=9, n_estimators=150, random_state=42, total=   0.6s\n",
      "[CV] criterion=gini, max_depth=9, n_estimators=150, random_state=42 ..\n",
      "[CV]  criterion=gini, max_depth=9, n_estimators=150, random_state=42, total=   0.6s\n",
      "[CV] criterion=gini, max_depth=9, n_estimators=150, random_state=42 ..\n",
      "[CV]  criterion=gini, max_depth=9, n_estimators=150, random_state=42, total=   0.7s\n",
      "[CV] criterion=gini, max_depth=9, n_estimators=150, random_state=42 ..\n",
      "[CV]  criterion=gini, max_depth=9, n_estimators=150, random_state=42, total=   0.6s\n",
      "[CV] criterion=gini, max_depth=9, n_estimators=150, random_state=42 ..\n",
      "[CV]  criterion=gini, max_depth=9, n_estimators=150, random_state=42, total=   0.4s\n",
      "[CV] criterion=gini, max_depth=9, n_estimators=150, random_state=42 ..\n",
      "[CV]  criterion=gini, max_depth=9, n_estimators=150, random_state=42, total=   0.4s\n",
      "[CV] criterion=gini, max_depth=9, n_estimators=150, random_state=42 ..\n",
      "[CV]  criterion=gini, max_depth=9, n_estimators=150, random_state=42, total=   0.4s\n",
      "[CV] criterion=gini, max_depth=9, n_estimators=150, random_state=42 ..\n",
      "[CV]  criterion=gini, max_depth=9, n_estimators=150, random_state=42, total=   0.7s\n",
      "[CV] criterion=gini, max_depth=10, n_estimators=3, random_state=42 ...\n",
      "[CV]  criterion=gini, max_depth=10, n_estimators=3, random_state=42, total=   0.0s\n",
      "[CV] criterion=gini, max_depth=10, n_estimators=3, random_state=42 ...\n",
      "[CV]  criterion=gini, max_depth=10, n_estimators=3, random_state=42, total=   0.0s\n",
      "[CV] criterion=gini, max_depth=10, n_estimators=3, random_state=42 ...\n",
      "[CV]  criterion=gini, max_depth=10, n_estimators=3, random_state=42, total=   0.0s\n",
      "[CV] criterion=gini, max_depth=10, n_estimators=3, random_state=42 ...\n",
      "[CV]  criterion=gini, max_depth=10, n_estimators=3, random_state=42, total=   0.0s\n",
      "[CV] criterion=gini, max_depth=10, n_estimators=3, random_state=42 ...\n",
      "[CV]  criterion=gini, max_depth=10, n_estimators=3, random_state=42, total=   0.0s\n",
      "[CV] criterion=gini, max_depth=10, n_estimators=3, random_state=42 ...\n",
      "[CV]  criterion=gini, max_depth=10, n_estimators=3, random_state=42, total=   0.0s\n",
      "[CV] criterion=gini, max_depth=10, n_estimators=3, random_state=42 ...\n",
      "[CV]  criterion=gini, max_depth=10, n_estimators=3, random_state=42, total=   0.0s\n",
      "[CV] criterion=gini, max_depth=10, n_estimators=3, random_state=42 ...\n",
      "[CV]  criterion=gini, max_depth=10, n_estimators=3, random_state=42, total=   0.0s\n",
      "[CV] criterion=gini, max_depth=10, n_estimators=3, random_state=42 ...\n",
      "[CV]  criterion=gini, max_depth=10, n_estimators=3, random_state=42, total=   0.0s\n",
      "[CV] criterion=gini, max_depth=10, n_estimators=3, random_state=42 ...\n",
      "[CV]  criterion=gini, max_depth=10, n_estimators=3, random_state=42, total=   0.0s\n",
      "[CV] criterion=gini, max_depth=10, n_estimators=30, random_state=42 ..\n",
      "[CV]  criterion=gini, max_depth=10, n_estimators=30, random_state=42, total=   0.1s\n",
      "[CV] criterion=gini, max_depth=10, n_estimators=30, random_state=42 ..\n",
      "[CV]  criterion=gini, max_depth=10, n_estimators=30, random_state=42, total=   0.1s\n",
      "[CV] criterion=gini, max_depth=10, n_estimators=30, random_state=42 ..\n",
      "[CV]  criterion=gini, max_depth=10, n_estimators=30, random_state=42, total=   0.2s\n",
      "[CV] criterion=gini, max_depth=10, n_estimators=30, random_state=42 ..\n",
      "[CV]  criterion=gini, max_depth=10, n_estimators=30, random_state=42, total=   0.1s\n",
      "[CV] criterion=gini, max_depth=10, n_estimators=30, random_state=42 ..\n",
      "[CV]  criterion=gini, max_depth=10, n_estimators=30, random_state=42, total=   0.2s\n",
      "[CV] criterion=gini, max_depth=10, n_estimators=30, random_state=42 ..\n",
      "[CV]  criterion=gini, max_depth=10, n_estimators=30, random_state=42, total=   0.2s\n",
      "[CV] criterion=gini, max_depth=10, n_estimators=30, random_state=42 ..\n",
      "[CV]  criterion=gini, max_depth=10, n_estimators=30, random_state=42, total=   0.2s\n",
      "[CV] criterion=gini, max_depth=10, n_estimators=30, random_state=42 ..\n",
      "[CV]  criterion=gini, max_depth=10, n_estimators=30, random_state=42, total=   0.2s\n",
      "[CV] criterion=gini, max_depth=10, n_estimators=30, random_state=42 ..\n",
      "[CV]  criterion=gini, max_depth=10, n_estimators=30, random_state=42, total=   0.2s\n",
      "[CV] criterion=gini, max_depth=10, n_estimators=30, random_state=42 ..\n",
      "[CV]  criterion=gini, max_depth=10, n_estimators=30, random_state=42, total=   0.2s\n",
      "[CV] criterion=gini, max_depth=10, n_estimators=100, random_state=42 .\n",
      "[CV]  criterion=gini, max_depth=10, n_estimators=100, random_state=42, total=   0.3s\n",
      "[CV] criterion=gini, max_depth=10, n_estimators=100, random_state=42 .\n",
      "[CV]  criterion=gini, max_depth=10, n_estimators=100, random_state=42, total=   0.4s\n",
      "[CV] criterion=gini, max_depth=10, n_estimators=100, random_state=42 .\n",
      "[CV]  criterion=gini, max_depth=10, n_estimators=100, random_state=42, total=   0.4s\n",
      "[CV] criterion=gini, max_depth=10, n_estimators=100, random_state=42 .\n",
      "[CV]  criterion=gini, max_depth=10, n_estimators=100, random_state=42, total=   0.4s\n",
      "[CV] criterion=gini, max_depth=10, n_estimators=100, random_state=42 .\n",
      "[CV]  criterion=gini, max_depth=10, n_estimators=100, random_state=42, total=   0.6s\n",
      "[CV] criterion=gini, max_depth=10, n_estimators=100, random_state=42 .\n",
      "[CV]  criterion=gini, max_depth=10, n_estimators=100, random_state=42, total=   0.6s\n",
      "[CV] criterion=gini, max_depth=10, n_estimators=100, random_state=42 .\n",
      "[CV]  criterion=gini, max_depth=10, n_estimators=100, random_state=42, total=   0.5s\n",
      "[CV] criterion=gini, max_depth=10, n_estimators=100, random_state=42 .\n",
      "[CV]  criterion=gini, max_depth=10, n_estimators=100, random_state=42, total=   0.4s\n",
      "[CV] criterion=gini, max_depth=10, n_estimators=100, random_state=42 .\n",
      "[CV]  criterion=gini, max_depth=10, n_estimators=100, random_state=42, total=   0.3s\n",
      "[CV] criterion=gini, max_depth=10, n_estimators=100, random_state=42 .\n",
      "[CV]  criterion=gini, max_depth=10, n_estimators=100, random_state=42, total=   0.6s\n",
      "[CV] criterion=gini, max_depth=10, n_estimators=150, random_state=42 .\n",
      "[CV]  criterion=gini, max_depth=10, n_estimators=150, random_state=42, total=   0.5s\n",
      "[CV] criterion=gini, max_depth=10, n_estimators=150, random_state=42 .\n",
      "[CV]  criterion=gini, max_depth=10, n_estimators=150, random_state=42, total=   0.7s\n",
      "[CV] criterion=gini, max_depth=10, n_estimators=150, random_state=42 .\n",
      "[CV]  criterion=gini, max_depth=10, n_estimators=150, random_state=42, total=   0.8s\n",
      "[CV] criterion=gini, max_depth=10, n_estimators=150, random_state=42 .\n",
      "[CV]  criterion=gini, max_depth=10, n_estimators=150, random_state=42, total=   0.6s\n",
      "[CV] criterion=gini, max_depth=10, n_estimators=150, random_state=42 .\n",
      "[CV]  criterion=gini, max_depth=10, n_estimators=150, random_state=42, total=   0.5s\n",
      "[CV] criterion=gini, max_depth=10, n_estimators=150, random_state=42 .\n",
      "[CV]  criterion=gini, max_depth=10, n_estimators=150, random_state=42, total=   0.8s\n",
      "[CV] criterion=gini, max_depth=10, n_estimators=150, random_state=42 .\n",
      "[CV]  criterion=gini, max_depth=10, n_estimators=150, random_state=42, total=   0.7s\n",
      "[CV] criterion=gini, max_depth=10, n_estimators=150, random_state=42 .\n"
     ]
    },
    {
     "name": "stdout",
     "output_type": "stream",
     "text": [
      "[CV]  criterion=gini, max_depth=10, n_estimators=150, random_state=42, total=   0.5s\n",
      "[CV] criterion=gini, max_depth=10, n_estimators=150, random_state=42 .\n",
      "[CV]  criterion=gini, max_depth=10, n_estimators=150, random_state=42, total=   0.5s\n",
      "[CV] criterion=gini, max_depth=10, n_estimators=150, random_state=42 .\n",
      "[CV]  criterion=gini, max_depth=10, n_estimators=150, random_state=42, total=   0.8s\n",
      "[CV] criterion=entropy, max_depth=8, n_estimators=3, random_state=42 .\n",
      "[CV]  criterion=entropy, max_depth=8, n_estimators=3, random_state=42, total=   0.0s\n",
      "[CV] criterion=entropy, max_depth=8, n_estimators=3, random_state=42 .\n",
      "[CV]  criterion=entropy, max_depth=8, n_estimators=3, random_state=42, total=   0.0s\n",
      "[CV] criterion=entropy, max_depth=8, n_estimators=3, random_state=42 .\n",
      "[CV]  criterion=entropy, max_depth=8, n_estimators=3, random_state=42, total=   0.0s\n",
      "[CV] criterion=entropy, max_depth=8, n_estimators=3, random_state=42 .\n",
      "[CV]  criterion=entropy, max_depth=8, n_estimators=3, random_state=42, total=   0.0s\n",
      "[CV] criterion=entropy, max_depth=8, n_estimators=3, random_state=42 .\n",
      "[CV]  criterion=entropy, max_depth=8, n_estimators=3, random_state=42, total=   0.0s\n",
      "[CV] criterion=entropy, max_depth=8, n_estimators=3, random_state=42 .\n",
      "[CV]  criterion=entropy, max_depth=8, n_estimators=3, random_state=42, total=   0.0s\n",
      "[CV] criterion=entropy, max_depth=8, n_estimators=3, random_state=42 .\n",
      "[CV]  criterion=entropy, max_depth=8, n_estimators=3, random_state=42, total=   0.0s\n",
      "[CV] criterion=entropy, max_depth=8, n_estimators=3, random_state=42 .\n",
      "[CV]  criterion=entropy, max_depth=8, n_estimators=3, random_state=42, total=   0.0s\n",
      "[CV] criterion=entropy, max_depth=8, n_estimators=3, random_state=42 .\n",
      "[CV]  criterion=entropy, max_depth=8, n_estimators=3, random_state=42, total=   0.0s\n",
      "[CV] criterion=entropy, max_depth=8, n_estimators=3, random_state=42 .\n",
      "[CV]  criterion=entropy, max_depth=8, n_estimators=3, random_state=42, total=   0.0s\n",
      "[CV] criterion=entropy, max_depth=8, n_estimators=30, random_state=42 \n",
      "[CV]  criterion=entropy, max_depth=8, n_estimators=30, random_state=42, total=   0.2s\n",
      "[CV] criterion=entropy, max_depth=8, n_estimators=30, random_state=42 \n",
      "[CV]  criterion=entropy, max_depth=8, n_estimators=30, random_state=42, total=   0.1s\n",
      "[CV] criterion=entropy, max_depth=8, n_estimators=30, random_state=42 \n",
      "[CV]  criterion=entropy, max_depth=8, n_estimators=30, random_state=42, total=   0.1s\n",
      "[CV] criterion=entropy, max_depth=8, n_estimators=30, random_state=42 \n",
      "[CV]  criterion=entropy, max_depth=8, n_estimators=30, random_state=42, total=   0.1s\n",
      "[CV] criterion=entropy, max_depth=8, n_estimators=30, random_state=42 \n",
      "[CV]  criterion=entropy, max_depth=8, n_estimators=30, random_state=42, total=   0.1s\n",
      "[CV] criterion=entropy, max_depth=8, n_estimators=30, random_state=42 \n",
      "[CV]  criterion=entropy, max_depth=8, n_estimators=30, random_state=42, total=   0.2s\n",
      "[CV] criterion=entropy, max_depth=8, n_estimators=30, random_state=42 \n",
      "[CV]  criterion=entropy, max_depth=8, n_estimators=30, random_state=42, total=   0.2s\n",
      "[CV] criterion=entropy, max_depth=8, n_estimators=30, random_state=42 \n",
      "[CV]  criterion=entropy, max_depth=8, n_estimators=30, random_state=42, total=   0.2s\n",
      "[CV] criterion=entropy, max_depth=8, n_estimators=30, random_state=42 \n",
      "[CV]  criterion=entropy, max_depth=8, n_estimators=30, random_state=42, total=   0.2s\n",
      "[CV] criterion=entropy, max_depth=8, n_estimators=30, random_state=42 \n",
      "[CV]  criterion=entropy, max_depth=8, n_estimators=30, random_state=42, total=   0.2s\n",
      "[CV] criterion=entropy, max_depth=8, n_estimators=100, random_state=42 \n",
      "[CV]  criterion=entropy, max_depth=8, n_estimators=100, random_state=42, total=   0.6s\n",
      "[CV] criterion=entropy, max_depth=8, n_estimators=100, random_state=42 \n",
      "[CV]  criterion=entropy, max_depth=8, n_estimators=100, random_state=42, total=   0.3s\n",
      "[CV] criterion=entropy, max_depth=8, n_estimators=100, random_state=42 \n",
      "[CV]  criterion=entropy, max_depth=8, n_estimators=100, random_state=42, total=   0.5s\n",
      "[CV] criterion=entropy, max_depth=8, n_estimators=100, random_state=42 \n",
      "[CV]  criterion=entropy, max_depth=8, n_estimators=100, random_state=42, total=   0.3s\n",
      "[CV] criterion=entropy, max_depth=8, n_estimators=100, random_state=42 \n",
      "[CV]  criterion=entropy, max_depth=8, n_estimators=100, random_state=42, total=   0.3s\n",
      "[CV] criterion=entropy, max_depth=8, n_estimators=100, random_state=42 \n",
      "[CV]  criterion=entropy, max_depth=8, n_estimators=100, random_state=42, total=   0.4s\n",
      "[CV] criterion=entropy, max_depth=8, n_estimators=100, random_state=42 \n",
      "[CV]  criterion=entropy, max_depth=8, n_estimators=100, random_state=42, total=   0.3s\n",
      "[CV] criterion=entropy, max_depth=8, n_estimators=100, random_state=42 \n",
      "[CV]  criterion=entropy, max_depth=8, n_estimators=100, random_state=42, total=   0.4s\n",
      "[CV] criterion=entropy, max_depth=8, n_estimators=100, random_state=42 \n",
      "[CV]  criterion=entropy, max_depth=8, n_estimators=100, random_state=42, total=   0.3s\n",
      "[CV] criterion=entropy, max_depth=8, n_estimators=100, random_state=42 \n",
      "[CV]  criterion=entropy, max_depth=8, n_estimators=100, random_state=42, total=   0.3s\n",
      "[CV] criterion=entropy, max_depth=8, n_estimators=150, random_state=42 \n",
      "[CV]  criterion=entropy, max_depth=8, n_estimators=150, random_state=42, total=   0.4s\n",
      "[CV] criterion=entropy, max_depth=8, n_estimators=150, random_state=42 \n",
      "[CV]  criterion=entropy, max_depth=8, n_estimators=150, random_state=42, total=   0.7s\n",
      "[CV] criterion=entropy, max_depth=8, n_estimators=150, random_state=42 \n",
      "[CV]  criterion=entropy, max_depth=8, n_estimators=150, random_state=42, total=   0.5s\n",
      "[CV] criterion=entropy, max_depth=8, n_estimators=150, random_state=42 \n",
      "[CV]  criterion=entropy, max_depth=8, n_estimators=150, random_state=42, total=   0.7s\n",
      "[CV] criterion=entropy, max_depth=8, n_estimators=150, random_state=42 \n",
      "[CV]  criterion=entropy, max_depth=8, n_estimators=150, random_state=42, total=   0.6s\n",
      "[CV] criterion=entropy, max_depth=8, n_estimators=150, random_state=42 \n",
      "[CV]  criterion=entropy, max_depth=8, n_estimators=150, random_state=42, total=   0.4s\n",
      "[CV] criterion=entropy, max_depth=8, n_estimators=150, random_state=42 \n",
      "[CV]  criterion=entropy, max_depth=8, n_estimators=150, random_state=42, total=   0.5s\n",
      "[CV] criterion=entropy, max_depth=8, n_estimators=150, random_state=42 \n",
      "[CV]  criterion=entropy, max_depth=8, n_estimators=150, random_state=42, total=   0.4s\n",
      "[CV] criterion=entropy, max_depth=8, n_estimators=150, random_state=42 \n",
      "[CV]  criterion=entropy, max_depth=8, n_estimators=150, random_state=42, total=   1.0s\n",
      "[CV] criterion=entropy, max_depth=8, n_estimators=150, random_state=42 \n",
      "[CV]  criterion=entropy, max_depth=8, n_estimators=150, random_state=42, total=   0.9s\n",
      "[CV] criterion=entropy, max_depth=9, n_estimators=3, random_state=42 .\n",
      "[CV]  criterion=entropy, max_depth=9, n_estimators=3, random_state=42, total=   0.0s\n",
      "[CV] criterion=entropy, max_depth=9, n_estimators=3, random_state=42 .\n",
      "[CV]  criterion=entropy, max_depth=9, n_estimators=3, random_state=42, total=   0.0s\n",
      "[CV] criterion=entropy, max_depth=9, n_estimators=3, random_state=42 .\n",
      "[CV]  criterion=entropy, max_depth=9, n_estimators=3, random_state=42, total=   0.0s\n",
      "[CV] criterion=entropy, max_depth=9, n_estimators=3, random_state=42 .\n",
      "[CV]  criterion=entropy, max_depth=9, n_estimators=3, random_state=42, total=   0.0s\n",
      "[CV] criterion=entropy, max_depth=9, n_estimators=3, random_state=42 .\n",
      "[CV]  criterion=entropy, max_depth=9, n_estimators=3, random_state=42, total=   0.0s\n",
      "[CV] criterion=entropy, max_depth=9, n_estimators=3, random_state=42 .\n",
      "[CV]  criterion=entropy, max_depth=9, n_estimators=3, random_state=42, total=   0.0s\n",
      "[CV] criterion=entropy, max_depth=9, n_estimators=3, random_state=42 .\n",
      "[CV]  criterion=entropy, max_depth=9, n_estimators=3, random_state=42, total=   0.0s\n",
      "[CV] criterion=entropy, max_depth=9, n_estimators=3, random_state=42 .\n",
      "[CV]  criterion=entropy, max_depth=9, n_estimators=3, random_state=42, total=   0.0s\n",
      "[CV] criterion=entropy, max_depth=9, n_estimators=3, random_state=42 .\n",
      "[CV]  criterion=entropy, max_depth=9, n_estimators=3, random_state=42, total=   0.0s\n",
      "[CV] criterion=entropy, max_depth=9, n_estimators=3, random_state=42 .\n",
      "[CV]  criterion=entropy, max_depth=9, n_estimators=3, random_state=42, total=   0.0s\n",
      "[CV] criterion=entropy, max_depth=9, n_estimators=30, random_state=42 \n"
     ]
    },
    {
     "name": "stdout",
     "output_type": "stream",
     "text": [
      "[CV]  criterion=entropy, max_depth=9, n_estimators=30, random_state=42, total=   0.2s\n",
      "[CV] criterion=entropy, max_depth=9, n_estimators=30, random_state=42 \n",
      "[CV]  criterion=entropy, max_depth=9, n_estimators=30, random_state=42, total=   0.1s\n",
      "[CV] criterion=entropy, max_depth=9, n_estimators=30, random_state=42 \n",
      "[CV]  criterion=entropy, max_depth=9, n_estimators=30, random_state=42, total=   0.1s\n",
      "[CV] criterion=entropy, max_depth=9, n_estimators=30, random_state=42 \n",
      "[CV]  criterion=entropy, max_depth=9, n_estimators=30, random_state=42, total=   0.1s\n",
      "[CV] criterion=entropy, max_depth=9, n_estimators=30, random_state=42 \n",
      "[CV]  criterion=entropy, max_depth=9, n_estimators=30, random_state=42, total=   0.1s\n",
      "[CV] criterion=entropy, max_depth=9, n_estimators=30, random_state=42 \n",
      "[CV]  criterion=entropy, max_depth=9, n_estimators=30, random_state=42, total=   0.1s\n",
      "[CV] criterion=entropy, max_depth=9, n_estimators=30, random_state=42 \n",
      "[CV]  criterion=entropy, max_depth=9, n_estimators=30, random_state=42, total=   0.1s\n",
      "[CV] criterion=entropy, max_depth=9, n_estimators=30, random_state=42 \n",
      "[CV]  criterion=entropy, max_depth=9, n_estimators=30, random_state=42, total=   0.1s\n",
      "[CV] criterion=entropy, max_depth=9, n_estimators=30, random_state=42 \n",
      "[CV]  criterion=entropy, max_depth=9, n_estimators=30, random_state=42, total=   0.1s\n",
      "[CV] criterion=entropy, max_depth=9, n_estimators=30, random_state=42 \n",
      "[CV]  criterion=entropy, max_depth=9, n_estimators=30, random_state=42, total=   0.1s\n",
      "[CV] criterion=entropy, max_depth=9, n_estimators=100, random_state=42 \n",
      "[CV]  criterion=entropy, max_depth=9, n_estimators=100, random_state=42, total=   0.5s\n",
      "[CV] criterion=entropy, max_depth=9, n_estimators=100, random_state=42 \n",
      "[CV]  criterion=entropy, max_depth=9, n_estimators=100, random_state=42, total=   0.5s\n",
      "[CV] criterion=entropy, max_depth=9, n_estimators=100, random_state=42 \n",
      "[CV]  criterion=entropy, max_depth=9, n_estimators=100, random_state=42, total=   0.3s\n",
      "[CV] criterion=entropy, max_depth=9, n_estimators=100, random_state=42 \n",
      "[CV]  criterion=entropy, max_depth=9, n_estimators=100, random_state=42, total=   0.3s\n",
      "[CV] criterion=entropy, max_depth=9, n_estimators=100, random_state=42 \n",
      "[CV]  criterion=entropy, max_depth=9, n_estimators=100, random_state=42, total=   0.3s\n",
      "[CV] criterion=entropy, max_depth=9, n_estimators=100, random_state=42 \n",
      "[CV]  criterion=entropy, max_depth=9, n_estimators=100, random_state=42, total=   0.3s\n",
      "[CV] criterion=entropy, max_depth=9, n_estimators=100, random_state=42 \n",
      "[CV]  criterion=entropy, max_depth=9, n_estimators=100, random_state=42, total=   0.5s\n",
      "[CV] criterion=entropy, max_depth=9, n_estimators=100, random_state=42 \n",
      "[CV]  criterion=entropy, max_depth=9, n_estimators=100, random_state=42, total=   0.3s\n",
      "[CV] criterion=entropy, max_depth=9, n_estimators=100, random_state=42 \n",
      "[CV]  criterion=entropy, max_depth=9, n_estimators=100, random_state=42, total=   0.5s\n",
      "[CV] criterion=entropy, max_depth=9, n_estimators=100, random_state=42 \n",
      "[CV]  criterion=entropy, max_depth=9, n_estimators=100, random_state=42, total=   0.4s\n",
      "[CV] criterion=entropy, max_depth=9, n_estimators=150, random_state=42 \n",
      "[CV]  criterion=entropy, max_depth=9, n_estimators=150, random_state=42, total=   0.4s\n",
      "[CV] criterion=entropy, max_depth=9, n_estimators=150, random_state=42 \n",
      "[CV]  criterion=entropy, max_depth=9, n_estimators=150, random_state=42, total=   0.7s\n",
      "[CV] criterion=entropy, max_depth=9, n_estimators=150, random_state=42 \n",
      "[CV]  criterion=entropy, max_depth=9, n_estimators=150, random_state=42, total=   0.4s\n",
      "[CV] criterion=entropy, max_depth=9, n_estimators=150, random_state=42 \n",
      "[CV]  criterion=entropy, max_depth=9, n_estimators=150, random_state=42, total=   0.4s\n",
      "[CV] criterion=entropy, max_depth=9, n_estimators=150, random_state=42 \n",
      "[CV]  criterion=entropy, max_depth=9, n_estimators=150, random_state=42, total=   0.4s\n",
      "[CV] criterion=entropy, max_depth=9, n_estimators=150, random_state=42 \n",
      "[CV]  criterion=entropy, max_depth=9, n_estimators=150, random_state=42, total=   0.5s\n",
      "[CV] criterion=entropy, max_depth=9, n_estimators=150, random_state=42 \n",
      "[CV]  criterion=entropy, max_depth=9, n_estimators=150, random_state=42, total=   0.5s\n",
      "[CV] criterion=entropy, max_depth=9, n_estimators=150, random_state=42 \n",
      "[CV]  criterion=entropy, max_depth=9, n_estimators=150, random_state=42, total=   0.6s\n",
      "[CV] criterion=entropy, max_depth=9, n_estimators=150, random_state=42 \n",
      "[CV]  criterion=entropy, max_depth=9, n_estimators=150, random_state=42, total=   0.5s\n",
      "[CV] criterion=entropy, max_depth=9, n_estimators=150, random_state=42 \n",
      "[CV]  criterion=entropy, max_depth=9, n_estimators=150, random_state=42, total=   0.6s\n",
      "[CV] criterion=entropy, max_depth=10, n_estimators=3, random_state=42 \n",
      "[CV]  criterion=entropy, max_depth=10, n_estimators=3, random_state=42, total=   0.0s\n",
      "[CV] criterion=entropy, max_depth=10, n_estimators=3, random_state=42 \n",
      "[CV]  criterion=entropy, max_depth=10, n_estimators=3, random_state=42, total=   0.0s\n",
      "[CV] criterion=entropy, max_depth=10, n_estimators=3, random_state=42 \n",
      "[CV]  criterion=entropy, max_depth=10, n_estimators=3, random_state=42, total=   0.0s\n",
      "[CV] criterion=entropy, max_depth=10, n_estimators=3, random_state=42 \n",
      "[CV]  criterion=entropy, max_depth=10, n_estimators=3, random_state=42, total=   0.0s\n",
      "[CV] criterion=entropy, max_depth=10, n_estimators=3, random_state=42 \n",
      "[CV]  criterion=entropy, max_depth=10, n_estimators=3, random_state=42, total=   0.0s\n",
      "[CV] criterion=entropy, max_depth=10, n_estimators=3, random_state=42 \n",
      "[CV]  criterion=entropy, max_depth=10, n_estimators=3, random_state=42, total=   0.0s\n",
      "[CV] criterion=entropy, max_depth=10, n_estimators=3, random_state=42 \n",
      "[CV]  criterion=entropy, max_depth=10, n_estimators=3, random_state=42, total=   0.0s\n",
      "[CV] criterion=entropy, max_depth=10, n_estimators=3, random_state=42 \n",
      "[CV]  criterion=entropy, max_depth=10, n_estimators=3, random_state=42, total=   0.0s\n",
      "[CV] criterion=entropy, max_depth=10, n_estimators=3, random_state=42 \n",
      "[CV]  criterion=entropy, max_depth=10, n_estimators=3, random_state=42, total=   0.0s\n",
      "[CV] criterion=entropy, max_depth=10, n_estimators=3, random_state=42 \n",
      "[CV]  criterion=entropy, max_depth=10, n_estimators=3, random_state=42, total=   0.0s\n",
      "[CV] criterion=entropy, max_depth=10, n_estimators=30, random_state=42 \n",
      "[CV]  criterion=entropy, max_depth=10, n_estimators=30, random_state=42, total=   0.1s\n",
      "[CV] criterion=entropy, max_depth=10, n_estimators=30, random_state=42 \n",
      "[CV]  criterion=entropy, max_depth=10, n_estimators=30, random_state=42, total=   0.1s\n",
      "[CV] criterion=entropy, max_depth=10, n_estimators=30, random_state=42 \n",
      "[CV]  criterion=entropy, max_depth=10, n_estimators=30, random_state=42, total=   0.1s\n",
      "[CV] criterion=entropy, max_depth=10, n_estimators=30, random_state=42 \n",
      "[CV]  criterion=entropy, max_depth=10, n_estimators=30, random_state=42, total=   0.1s\n",
      "[CV] criterion=entropy, max_depth=10, n_estimators=30, random_state=42 \n",
      "[CV]  criterion=entropy, max_depth=10, n_estimators=30, random_state=42, total=   0.1s\n",
      "[CV] criterion=entropy, max_depth=10, n_estimators=30, random_state=42 \n",
      "[CV]  criterion=entropy, max_depth=10, n_estimators=30, random_state=42, total=   0.1s\n",
      "[CV] criterion=entropy, max_depth=10, n_estimators=30, random_state=42 \n",
      "[CV]  criterion=entropy, max_depth=10, n_estimators=30, random_state=42, total=   0.1s\n",
      "[CV] criterion=entropy, max_depth=10, n_estimators=30, random_state=42 \n",
      "[CV]  criterion=entropy, max_depth=10, n_estimators=30, random_state=42, total=   0.1s\n",
      "[CV] criterion=entropy, max_depth=10, n_estimators=30, random_state=42 \n",
      "[CV]  criterion=entropy, max_depth=10, n_estimators=30, random_state=42, total=   0.1s\n",
      "[CV] criterion=entropy, max_depth=10, n_estimators=30, random_state=42 \n",
      "[CV]  criterion=entropy, max_depth=10, n_estimators=30, random_state=42, total=   0.1s\n",
      "[CV] criterion=entropy, max_depth=10, n_estimators=100, random_state=42 \n",
      "[CV]  criterion=entropy, max_depth=10, n_estimators=100, random_state=42, total=   0.4s\n",
      "[CV] criterion=entropy, max_depth=10, n_estimators=100, random_state=42 \n",
      "[CV]  criterion=entropy, max_depth=10, n_estimators=100, random_state=42, total=   0.3s\n",
      "[CV] criterion=entropy, max_depth=10, n_estimators=100, random_state=42 \n"
     ]
    },
    {
     "name": "stdout",
     "output_type": "stream",
     "text": [
      "[CV]  criterion=entropy, max_depth=10, n_estimators=100, random_state=42, total=   0.3s\n",
      "[CV] criterion=entropy, max_depth=10, n_estimators=100, random_state=42 \n",
      "[CV]  criterion=entropy, max_depth=10, n_estimators=100, random_state=42, total=   0.8s\n",
      "[CV] criterion=entropy, max_depth=10, n_estimators=100, random_state=42 \n",
      "[CV]  criterion=entropy, max_depth=10, n_estimators=100, random_state=42, total=   0.4s\n",
      "[CV] criterion=entropy, max_depth=10, n_estimators=100, random_state=42 \n",
      "[CV]  criterion=entropy, max_depth=10, n_estimators=100, random_state=42, total=   0.4s\n",
      "[CV] criterion=entropy, max_depth=10, n_estimators=100, random_state=42 \n",
      "[CV]  criterion=entropy, max_depth=10, n_estimators=100, random_state=42, total=   0.4s\n",
      "[CV] criterion=entropy, max_depth=10, n_estimators=100, random_state=42 \n",
      "[CV]  criterion=entropy, max_depth=10, n_estimators=100, random_state=42, total=   0.4s\n",
      "[CV] criterion=entropy, max_depth=10, n_estimators=100, random_state=42 \n",
      "[CV]  criterion=entropy, max_depth=10, n_estimators=100, random_state=42, total=   0.5s\n",
      "[CV] criterion=entropy, max_depth=10, n_estimators=100, random_state=42 \n",
      "[CV]  criterion=entropy, max_depth=10, n_estimators=100, random_state=42, total=   0.4s\n",
      "[CV] criterion=entropy, max_depth=10, n_estimators=150, random_state=42 \n",
      "[CV]  criterion=entropy, max_depth=10, n_estimators=150, random_state=42, total=   0.7s\n",
      "[CV] criterion=entropy, max_depth=10, n_estimators=150, random_state=42 \n",
      "[CV]  criterion=entropy, max_depth=10, n_estimators=150, random_state=42, total=   0.5s\n",
      "[CV] criterion=entropy, max_depth=10, n_estimators=150, random_state=42 \n",
      "[CV]  criterion=entropy, max_depth=10, n_estimators=150, random_state=42, total=   0.4s\n",
      "[CV] criterion=entropy, max_depth=10, n_estimators=150, random_state=42 \n",
      "[CV]  criterion=entropy, max_depth=10, n_estimators=150, random_state=42, total=   0.4s\n",
      "[CV] criterion=entropy, max_depth=10, n_estimators=150, random_state=42 \n",
      "[CV]  criterion=entropy, max_depth=10, n_estimators=150, random_state=42, total=   0.6s\n",
      "[CV] criterion=entropy, max_depth=10, n_estimators=150, random_state=42 \n",
      "[CV]  criterion=entropy, max_depth=10, n_estimators=150, random_state=42, total=   0.4s\n",
      "[CV] criterion=entropy, max_depth=10, n_estimators=150, random_state=42 \n",
      "[CV]  criterion=entropy, max_depth=10, n_estimators=150, random_state=42, total=   0.4s\n",
      "[CV] criterion=entropy, max_depth=10, n_estimators=150, random_state=42 \n",
      "[CV]  criterion=entropy, max_depth=10, n_estimators=150, random_state=42, total=   0.4s\n",
      "[CV] criterion=entropy, max_depth=10, n_estimators=150, random_state=42 \n",
      "[CV]  criterion=entropy, max_depth=10, n_estimators=150, random_state=42, total=   0.4s\n",
      "[CV] criterion=entropy, max_depth=10, n_estimators=150, random_state=42 \n",
      "[CV]  criterion=entropy, max_depth=10, n_estimators=150, random_state=42, total=   0.4s\n"
     ]
    },
    {
     "name": "stderr",
     "output_type": "stream",
     "text": [
      "[Parallel(n_jobs=1)]: Done 240 out of 240 | elapsed:  1.1min finished\n"
     ]
    },
    {
     "data": {
      "text/plain": [
       "GridSearchCV(cv=10, error_score=nan,\n",
       "             estimator=RandomForestClassifier(bootstrap=True, ccp_alpha=0.0,\n",
       "                                              class_weight=None,\n",
       "                                              criterion='gini', max_depth=None,\n",
       "                                              max_features='auto',\n",
       "                                              max_leaf_nodes=None,\n",
       "                                              max_samples=None,\n",
       "                                              min_impurity_decrease=0.0,\n",
       "                                              min_impurity_split=None,\n",
       "                                              min_samples_leaf=1,\n",
       "                                              min_samples_split=2,\n",
       "                                              min_weight_fraction_leaf=0.0,\n",
       "                                              n_estimators=100, n_jobs=None,\n",
       "                                              oob_score=False,\n",
       "                                              random_state=None, verbose=0,\n",
       "                                              warm_start=False),\n",
       "             iid='deprecated', n_jobs=None,\n",
       "             param_grid={'criterion': ['gini', 'entropy'],\n",
       "                         'max_depth': [8, 9, 10],\n",
       "                         'n_estimators': [3, 30, 100, 150],\n",
       "                         'random_state': [42]},\n",
       "             pre_dispatch='2*n_jobs', refit=True, return_train_score=False,\n",
       "             scoring=None, verbose=2)"
      ]
     },
     "execution_count": 36,
     "metadata": {},
     "output_type": "execute_result"
    }
   ],
   "source": [
    "params = {\n",
    "    'n_estimators': [100, 130, 150, 170, 200],\n",
    "    'max_depth': [8, 9, 10],\n",
    "    'criterion': ['gini', 'entropy'],\n",
    "    'random_state': [42],\n",
    "}\n",
    "model = RandomForestClassifier()\n",
    "rf_grid_search = GridSearchCV(model, param_grid=params, cv=10)\n",
    "rf_grid_search.fit(X, Y)"
   ]
  }
 ],
 "metadata": {
  "kernelspec": {
   "display_name": "Python 3",
   "language": "python",
   "name": "python3"
  },
  "language_info": {
   "codemirror_mode": {
    "name": "ipython",
    "version": 3
   },
   "file_extension": ".py",
   "mimetype": "text/x-python",
   "name": "python",
   "nbconvert_exporter": "python",
   "pygments_lexer": "ipython3",
   "version": "3.7.6"
  }
 },
 "nbformat": 4,
 "nbformat_minor": 4
}
