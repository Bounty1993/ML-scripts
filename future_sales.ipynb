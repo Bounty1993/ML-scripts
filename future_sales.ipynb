{
 "cells": [
  {
   "cell_type": "code",
   "execution_count": 4,
   "metadata": {},
   "outputs": [],
   "source": [
    "from itertools import product\n",
    "import os\n",
    "import numpy as np\n",
    "import pandas as pd\n",
    "import matplotlib.pyplot as plt\n",
    "import seaborn as sns\n",
    "sns.set()\n",
    "\n",
    "from sklearn.preprocessing import LabelEncoder, OneHotEncoder"
   ]
  },
  {
   "cell_type": "markdown",
   "metadata": {},
   "source": [
    "**Files description**\n",
    "\n",
    "* sales_train.csv - the training set. Daily historical data from January 2013 to October 2015.\n",
    "* test.csv - the test set. You need to forecast the sales for these shops and products for November 2015.\n",
    "* sample_submission.csv - a sample submission file in the correct format.\n",
    "* items.csv - supplemental information about the items/products.\n",
    "* item_categories.csv  - supplemental information about the items categories.\n",
    "* shops.csv- supplemental information about the shops.\n"
   ]
  },
  {
   "cell_type": "markdown",
   "metadata": {},
   "source": [
    "### Loading data"
   ]
  },
  {
   "cell_type": "code",
   "execution_count": 5,
   "metadata": {},
   "outputs": [
    {
     "name": "stdout",
     "output_type": "stream",
     "text": [
      "Shape:  (2935849, 10)\n"
     ]
    }
   ],
   "source": [
    "data_path = os.path.join('datasets', 'future_sales')\n",
    "\n",
    "sales_train_path = os.path.join(data_path, 'sales_train.csv')\n",
    "train_df = pd.read_csv(sales_train_path)\n",
    "\n",
    "test_path = os.path.join(data_path, 'test.csv')\n",
    "test_df = pd.read_csv(test_path)\n",
    "\n",
    "items_path = os.path.join(data_path, 'items.csv')\n",
    "temp_df = pd.read_csv(items_path)\n",
    "train_df = pd.merge(train_df, temp_df, on='item_id', how='left')\n",
    "\n",
    "items_category_path = os.path.join(data_path, 'item_categories.csv')\n",
    "temp_df = pd.read_csv(items_category_path)\n",
    "train_df = pd.merge(train_df, temp_df, on='item_category_id', how='left')\n",
    "\n",
    "shops_path = os.path.join(data_path, 'shops.csv')\n",
    "temp_df = pd.read_csv(shops_path)\n",
    "train_df = pd.merge(train_df, temp_df, on='shop_id', how='left')\n",
    "\n",
    "print('Shape: ', train_df.shape)"
   ]
  },
  {
   "cell_type": "markdown",
   "metadata": {},
   "source": [
    "### Data Fields\n",
    "\n",
    "* ID - an Id that represents a (Shop, Item) tuple within the test set\n",
    "* shop_id - unique identifier of a shop\n",
    "* item_id - unique identifier of a product\n",
    "* item_category_id - unique identifier of item category\n",
    "* item_cnt_day - number of products sold. You are predicting a monthly amount of this measure\n",
    "* item_price - current price of an item\n",
    "* date - date in format dd/mm/yyyy\n",
    "* date_block_num - a consecutive month number, used for convenience. January 2013 is 0, February 2013 is 1,..., October 2015 is 33\n",
    "* item_name - name of item\n",
    "* shop_name - name of shop\n",
    "* item_category_name - name of item category"
   ]
  },
  {
   "cell_type": "markdown",
   "metadata": {},
   "source": [
    "Using only shop ids and item ids which are present in test dataset."
   ]
  },
  {
   "cell_type": "code",
   "execution_count": 6,
   "metadata": {},
   "outputs": [
    {
     "data": {
      "text/plain": [
       "(1224439, 10)"
      ]
     },
     "execution_count": 6,
     "metadata": {},
     "output_type": "execute_result"
    }
   ],
   "source": [
    "test_shop_id = test_df['shop_id'].unique()\n",
    "test_item_id = test_df['item_id'].unique()\n",
    "\n",
    "train_df = train_df.loc[train_df['shop_id'].isin(test_shop_id)]\n",
    "train_df = train_df.loc[train_df['item_id'].isin(test_item_id)]\n",
    "train_df.shape"
   ]
  },
  {
   "cell_type": "markdown",
   "metadata": {},
   "source": [
    "No string features"
   ]
  },
  {
   "cell_type": "code",
   "execution_count": 7,
   "metadata": {},
   "outputs": [
    {
     "data": {
      "text/html": [
       "<div>\n",
       "<style scoped>\n",
       "    .dataframe tbody tr th:only-of-type {\n",
       "        vertical-align: middle;\n",
       "    }\n",
       "\n",
       "    .dataframe tbody tr th {\n",
       "        vertical-align: top;\n",
       "    }\n",
       "\n",
       "    .dataframe thead th {\n",
       "        text-align: right;\n",
       "    }\n",
       "</style>\n",
       "<table border=\"1\" class=\"dataframe\">\n",
       "  <thead>\n",
       "    <tr style=\"text-align: right;\">\n",
       "      <th></th>\n",
       "      <th>date</th>\n",
       "      <th>date_block_num</th>\n",
       "      <th>shop_id</th>\n",
       "      <th>item_id</th>\n",
       "      <th>item_price</th>\n",
       "      <th>item_cnt_day</th>\n",
       "      <th>item_category_id</th>\n",
       "    </tr>\n",
       "  </thead>\n",
       "  <tbody>\n",
       "    <tr>\n",
       "      <th>0</th>\n",
       "      <td>02.01.2013</td>\n",
       "      <td>0</td>\n",
       "      <td>59</td>\n",
       "      <td>22154</td>\n",
       "      <td>999.0</td>\n",
       "      <td>1.0</td>\n",
       "      <td>37</td>\n",
       "    </tr>\n",
       "    <tr>\n",
       "      <th>10</th>\n",
       "      <td>03.01.2013</td>\n",
       "      <td>0</td>\n",
       "      <td>25</td>\n",
       "      <td>2574</td>\n",
       "      <td>399.0</td>\n",
       "      <td>2.0</td>\n",
       "      <td>55</td>\n",
       "    </tr>\n",
       "    <tr>\n",
       "      <th>11</th>\n",
       "      <td>05.01.2013</td>\n",
       "      <td>0</td>\n",
       "      <td>25</td>\n",
       "      <td>2574</td>\n",
       "      <td>399.0</td>\n",
       "      <td>1.0</td>\n",
       "      <td>55</td>\n",
       "    </tr>\n",
       "    <tr>\n",
       "      <th>12</th>\n",
       "      <td>07.01.2013</td>\n",
       "      <td>0</td>\n",
       "      <td>25</td>\n",
       "      <td>2574</td>\n",
       "      <td>399.0</td>\n",
       "      <td>1.0</td>\n",
       "      <td>55</td>\n",
       "    </tr>\n",
       "    <tr>\n",
       "      <th>13</th>\n",
       "      <td>08.01.2013</td>\n",
       "      <td>0</td>\n",
       "      <td>25</td>\n",
       "      <td>2574</td>\n",
       "      <td>399.0</td>\n",
       "      <td>2.0</td>\n",
       "      <td>55</td>\n",
       "    </tr>\n",
       "  </tbody>\n",
       "</table>\n",
       "</div>"
      ],
      "text/plain": [
       "          date  date_block_num  shop_id  item_id  item_price  item_cnt_day  \\\n",
       "0   02.01.2013               0       59    22154       999.0           1.0   \n",
       "10  03.01.2013               0       25     2574       399.0           2.0   \n",
       "11  05.01.2013               0       25     2574       399.0           1.0   \n",
       "12  07.01.2013               0       25     2574       399.0           1.0   \n",
       "13  08.01.2013               0       25     2574       399.0           2.0   \n",
       "\n",
       "    item_category_id  \n",
       "0                 37  \n",
       "10                55  \n",
       "11                55  \n",
       "12                55  \n",
       "13                55  "
      ]
     },
     "execution_count": 7,
     "metadata": {},
     "output_type": "execute_result"
    }
   ],
   "source": [
    "train_df.drop(columns=['item_name', 'item_category_name', 'shop_name'], inplace=True)\n",
    "train_df.head()"
   ]
  },
  {
   "cell_type": "markdown",
   "metadata": {},
   "source": [
    "## Visualisations"
   ]
  },
  {
   "cell_type": "code",
   "execution_count": null,
   "metadata": {},
   "outputs": [],
   "source": [
    "train_df['sales'] = train_df['item_price'] * train_df['item_cnt_day']"
   ]
  },
  {
   "cell_type": "code",
   "execution_count": null,
   "metadata": {},
   "outputs": [],
   "source": [
    "fig, ax = plt.subplots(2, 1, figsize=(18,8))\n",
    "total_shop = train_df.groupby('shop_id', as_index=False)['sales'].sum()\n",
    "sns.barplot(x='shop_id', y='sales', data=total_shop, ax=ax[0])\n",
    "\n",
    "total_shop = train_df.groupby('item_category_id', as_index=False)['sales'].sum()\n",
    "sns.barplot(x='item_category_id', y='sales', data=total_shop, ax=ax[1])"
   ]
  },
  {
   "cell_type": "code",
   "execution_count": null,
   "metadata": {},
   "outputs": [],
   "source": [
    "fig = plt.figure(figsize=(16, 6))\n",
    "grid = plt.GridSpec(2, 5, hspace=0.4)\n",
    "\n",
    "ax1 = fig.add_subplot(grid[:, 0:3])\n",
    "ax2 = fig.add_subplot(grid[0, 3:])\n",
    "ax3 = fig.add_subplot(grid[1, 3:])\n",
    "date_block_group = train_df.groupby('date_block_num')\n",
    "sns.barplot(x='date_block_num', y='sales', data=train_df, ax=ax1)"
   ]
  },
  {
   "cell_type": "markdown",
   "metadata": {},
   "source": [
    "## Grouping by month"
   ]
  },
  {
   "cell_type": "code",
   "execution_count": 8,
   "metadata": {},
   "outputs": [],
   "source": [
    "cols_to_group = ['date_block_num', 'shop_id', 'item_category_id', 'item_id']\n",
    "train_group = train_df.groupby(cols_to_group).agg({'item_price': [np.mean, np.sum],\n",
    "                                                   'item_cnt_day': [np.mean, np.sum]})\n",
    "train_group.reset_index(inplace=True)\n",
    "train_group.columns = cols_to_group + ['price_mean', 'price', 'cnt_mean', 'cnt']"
   ]
  },
  {
   "cell_type": "code",
   "execution_count": 20,
   "metadata": {},
   "outputs": [],
   "source": [
    "shop_ids = train_group['shop_id'].unique()\n",
    "item_ids = train_group['item_id'].unique()\n",
    "date_blocks = train_group['date_block_num'].unique()\n",
    "empty_df = list(product(date_blocks, shop_ids, item_ids))\n",
    "    \n",
    "empty_df = pd.DataFrame(empty_df, columns=['date_block_num','shop_id','item_id'])\n",
    "all_train = pd.merge(empty_df, train_group, on=['date_block_num','shop_id','item_id'], how='left')\n",
    "all_train.fillna(0, inplace=True)"
   ]
  },
  {
   "cell_type": "code",
   "execution_count": 21,
   "metadata": {},
   "outputs": [
    {
     "data": {
      "text/html": [
       "<div>\n",
       "<style scoped>\n",
       "    .dataframe tbody tr th:only-of-type {\n",
       "        vertical-align: middle;\n",
       "    }\n",
       "\n",
       "    .dataframe tbody tr th {\n",
       "        vertical-align: top;\n",
       "    }\n",
       "\n",
       "    .dataframe thead th {\n",
       "        text-align: right;\n",
       "    }\n",
       "</style>\n",
       "<table border=\"1\" class=\"dataframe\">\n",
       "  <thead>\n",
       "    <tr style=\"text-align: right;\">\n",
       "      <th></th>\n",
       "      <th>count</th>\n",
       "      <th>mean</th>\n",
       "      <th>std</th>\n",
       "      <th>min</th>\n",
       "      <th>25%</th>\n",
       "      <th>50%</th>\n",
       "      <th>75%</th>\n",
       "      <th>max</th>\n",
       "    </tr>\n",
       "  </thead>\n",
       "  <tbody>\n",
       "    <tr>\n",
       "      <th>date_block_num</th>\n",
       "      <td>6734448.0</td>\n",
       "      <td>16.500000</td>\n",
       "      <td>9.810709</td>\n",
       "      <td>0.0</td>\n",
       "      <td>8.00</td>\n",
       "      <td>16.5</td>\n",
       "      <td>25.00</td>\n",
       "      <td>33.000000</td>\n",
       "    </tr>\n",
       "    <tr>\n",
       "      <th>shop_id</th>\n",
       "      <td>6734448.0</td>\n",
       "      <td>31.642857</td>\n",
       "      <td>17.561894</td>\n",
       "      <td>2.0</td>\n",
       "      <td>16.00</td>\n",
       "      <td>34.5</td>\n",
       "      <td>47.00</td>\n",
       "      <td>59.000000</td>\n",
       "    </tr>\n",
       "    <tr>\n",
       "      <th>item_id</th>\n",
       "      <td>6734448.0</td>\n",
       "      <td>11041.890161</td>\n",
       "      <td>6210.744436</td>\n",
       "      <td>30.0</td>\n",
       "      <td>5385.25</td>\n",
       "      <td>11265.5</td>\n",
       "      <td>16068.25</td>\n",
       "      <td>22167.000000</td>\n",
       "    </tr>\n",
       "    <tr>\n",
       "      <th>item_category_id</th>\n",
       "      <td>6734448.0</td>\n",
       "      <td>3.786271</td>\n",
       "      <td>13.212956</td>\n",
       "      <td>0.0</td>\n",
       "      <td>0.00</td>\n",
       "      <td>0.0</td>\n",
       "      <td>0.00</td>\n",
       "      <td>83.000000</td>\n",
       "    </tr>\n",
       "    <tr>\n",
       "      <th>price_mean</th>\n",
       "      <td>6734448.0</td>\n",
       "      <td>81.230111</td>\n",
       "      <td>534.732650</td>\n",
       "      <td>0.0</td>\n",
       "      <td>0.00</td>\n",
       "      <td>0.0</td>\n",
       "      <td>0.00</td>\n",
       "      <td>42990.000000</td>\n",
       "    </tr>\n",
       "    <tr>\n",
       "      <th>price</th>\n",
       "      <td>6734448.0</td>\n",
       "      <td>187.392884</td>\n",
       "      <td>2177.443736</td>\n",
       "      <td>0.0</td>\n",
       "      <td>0.00</td>\n",
       "      <td>0.0</td>\n",
       "      <td>0.00</td>\n",
       "      <td>515573.589744</td>\n",
       "    </tr>\n",
       "    <tr>\n",
       "      <th>cnt_mean</th>\n",
       "      <td>6734448.0</td>\n",
       "      <td>0.097299</td>\n",
       "      <td>0.612203</td>\n",
       "      <td>-2.0</td>\n",
       "      <td>0.00</td>\n",
       "      <td>0.0</td>\n",
       "      <td>0.00</td>\n",
       "      <td>1000.000000</td>\n",
       "    </tr>\n",
       "    <tr>\n",
       "      <th>cnt</th>\n",
       "      <td>6734448.0</td>\n",
       "      <td>0.240223</td>\n",
       "      <td>3.456640</td>\n",
       "      <td>-4.0</td>\n",
       "      <td>0.00</td>\n",
       "      <td>0.0</td>\n",
       "      <td>0.00</td>\n",
       "      <td>2253.000000</td>\n",
       "    </tr>\n",
       "  </tbody>\n",
       "</table>\n",
       "</div>"
      ],
      "text/plain": [
       "                      count          mean          std   min      25%  \\\n",
       "date_block_num    6734448.0     16.500000     9.810709   0.0     8.00   \n",
       "shop_id           6734448.0     31.642857    17.561894   2.0    16.00   \n",
       "item_id           6734448.0  11041.890161  6210.744436  30.0  5385.25   \n",
       "item_category_id  6734448.0      3.786271    13.212956   0.0     0.00   \n",
       "price_mean        6734448.0     81.230111   534.732650   0.0     0.00   \n",
       "price             6734448.0    187.392884  2177.443736   0.0     0.00   \n",
       "cnt_mean          6734448.0      0.097299     0.612203  -2.0     0.00   \n",
       "cnt               6734448.0      0.240223     3.456640  -4.0     0.00   \n",
       "\n",
       "                      50%       75%            max  \n",
       "date_block_num       16.5     25.00      33.000000  \n",
       "shop_id              34.5     47.00      59.000000  \n",
       "item_id           11265.5  16068.25   22167.000000  \n",
       "item_category_id      0.0      0.00      83.000000  \n",
       "price_mean            0.0      0.00   42990.000000  \n",
       "price                 0.0      0.00  515573.589744  \n",
       "cnt_mean              0.0      0.00    1000.000000  \n",
       "cnt                   0.0      0.00    2253.000000  "
      ]
     },
     "execution_count": 21,
     "metadata": {},
     "output_type": "execute_result"
    }
   ],
   "source": [
    "all_train.describe().T"
   ]
  },
  {
   "cell_type": "markdown",
   "metadata": {},
   "source": [
    "### EDA"
   ]
  },
  {
   "cell_type": "markdown",
   "metadata": {},
   "source": [
    "Removing outliers"
   ]
  },
  {
   "cell_type": "code",
   "execution_count": 16,
   "metadata": {},
   "outputs": [
    {
     "name": "stdout",
     "output_type": "stream",
     "text": [
      "percentage of obs with cnt more than 20:  6078\n",
      "percentage of obs with cnt less than 0:  252\n",
      "percentage of obs with price more than 400 000:  11\n"
     ]
    },
    {
     "data": {
      "image/png": "[encoded data removed]",
      "text/plain": [
       "<Figure size 1152x360 with 2 Axes>"
      ]
     },
     "metadata": {},
     "output_type": "display_data"
    }
   ],
   "source": [
    "fig, (ax1, ax2) = plt.subplots(1, 2, figsize=(16, 5))\n",
    "sns.boxplot(y=all_train['price'], ax=ax1)\n",
    "sns.boxplot(y=all_train['cnt'], ax=ax2)\n",
    "\n",
    "print('percentage of obs with cnt more than 20: ', all_train[all_train['cnt'] > 20].shape[0])\n",
    "print('percentage of obs with cnt less than 0: ', all_train[all_train['cnt'] < 0].shape[0])\n",
    "print('percentage of obs with price more than 400 000: ', all_train[all_train['price'] > 400_000].shape[0])"
   ]
  },
  {
   "cell_type": "code",
   "execution_count": 19,
   "metadata": {},
   "outputs": [],
   "source": [
    "all_train = all_train.loc[(all_train['cnt'] <= 20) \n",
    "                          & (all_train['cnt'] >= 0) \n",
    "                          & (all_train['price'] < 400_000)].copy()"
   ]
  },
  {
   "cell_type": "code",
   "execution_count": 18,
   "metadata": {},
   "outputs": [
    {
     "name": "stderr",
     "output_type": "stream",
     "text": [
      "C:\\Users\\Bartek\\anaconda3\\lib\\site-packages\\ipykernel_launcher.py:7: SettingWithCopyWarning: \n",
      "A value is trying to be set on a copy of a slice from a DataFrame.\n",
      "Try using .loc[row_indexer,col_indexer] = value instead\n",
      "\n",
      "See the caveats in the documentation: https://pandas.pydata.org/pandas-docs/stable/user_guide/indexing.html#returning-a-view-versus-a-copy\n",
      "  import sys\n",
      "C:\\Users\\Bartek\\anaconda3\\lib\\site-packages\\ipykernel_launcher.py:8: SettingWithCopyWarning: \n",
      "A value is trying to be set on a copy of a slice from a DataFrame.\n",
      "Try using .loc[row_indexer,col_indexer] = value instead\n",
      "\n",
      "See the caveats in the documentation: https://pandas.pydata.org/pandas-docs/stable/user_guide/indexing.html#returning-a-view-versus-a-copy\n",
      "  \n",
      "C:\\Users\\Bartek\\anaconda3\\lib\\site-packages\\ipykernel_launcher.py:9: SettingWithCopyWarning: \n",
      "A value is trying to be set on a copy of a slice from a DataFrame.\n",
      "Try using .loc[row_indexer,col_indexer] = value instead\n",
      "\n",
      "See the caveats in the documentation: https://pandas.pydata.org/pandas-docs/stable/user_guide/indexing.html#returning-a-view-versus-a-copy\n",
      "  if __name__ == '__main__':\n"
     ]
    }
   ],
   "source": [
    "def get_year(x):\n",
    "    return x // 12 + 2013\n",
    "\n",
    "def get_month(x):\n",
    "    return x % 12\n",
    "\n",
    "all_train['year'] = all_train['date_block_num'].apply(get_year)\n",
    "all_train['month'] = all_train['date_block_num'].apply(get_month)\n",
    "all_train['sales'] = all_train['cnt'] * all_train['price']"
   ]
  },
  {
   "cell_type": "code",
   "execution_count": null,
   "metadata": {},
   "outputs": [],
   "source": [
    "temp = all_train.groupby(['year', 'month'])[['price', 'cnt', 'sales']].sum()\n",
    "temp.reset_index(inplace=True)\n",
    "sns.barplot(x='month', y='sales', hue='year', data=temp)"
   ]
  },
  {
   "cell_type": "markdown",
   "metadata": {},
   "source": [
    "## Feature engineering"
   ]
  },
  {
   "cell_type": "code",
   "execution_count": null,
   "metadata": {},
   "outputs": [],
   "source": [
    "cols_to_group = ['shop_id', 'item_category_id', 'item_id']\n",
    "all_train['lag_price'] = all_train.sort_values('date_block_num').groupby(cols_to_group)['price'].shift(-1)\n",
    "all_train['lag_cnt'] = all_train.sort_values('date_block_num').groupby(cols_to_group)['cnt'].shift(-1)\n",
    "all_train['lag_2_cnt'] = all_train.sort_values('date_block_num').groupby(cols_to_group)['cnt'].shift(-2)\n",
    "all_train['lag_3_cnt'] = all_train.sort_values('date_block_num').groupby(cols_to_group)['cnt'].shift(-3)\n",
    "cols = ['lag_cnt', 'lag_2_cnt', 'lag_3_cnt', 'lag_price']\n",
    "all_train[cols] = all_train[cols].fillna(0)"
   ]
  },
  {
   "cell_type": "code",
   "execution_count": null,
   "metadata": {},
   "outputs": [],
   "source": [
    "rolling_mean = lambda x: x.rolling(window=3, min_periods=1).mean()\n",
    "rolling_min = lambda x: x.rolling(window=3, min_periods=1).min()\n",
    "rolling_max = lambda x: x.rolling(window=3, min_periods=1).max()\n",
    "\n",
    "all_train['rolling_mean_cnt'] = all_train.sort_values('date_block_num') \\\n",
    "                                         .groupby(cols_to_group)['cnt'].apply(rolling_mean)\n",
    "all_train['rolling_min_cnt'] = all_train.sort_values('date_block_num') \\\n",
    "                                        .groupby(cols_to_group)['cnt'].apply(rolling_min)\n",
    "all_train['rolling_max_cnt'] = all_train.sort_values('date_block_num') \\\n",
    "                                        .groupby(cols_to_group)['cnt'].apply(rolling_max)"
   ]
  },
  {
   "cell_type": "code",
   "execution_count": null,
   "metadata": {},
   "outputs": [],
   "source": [
    "all_train['change_cnt'] = all_train['cnt'] - all_train['lag_cnt']\n",
    "all_train['change_2_cnt'] = all_train['cnt'] - all_train['lag_2_cnt']\n",
    "all_train['change_3_cnt'] = all_train['cnt'] - all_train['lag_3_cnt']"
   ]
  },
  {
   "cell_type": "code",
   "execution_count": null,
   "metadata": {},
   "outputs": [],
   "source": [
    "all_train['target'] = all_train.sort_values('date_block_num').groupby(['shop_id', 'item_id'])['cnt'].shift(1)"
   ]
  },
  {
   "cell_type": "code",
   "execution_count": null,
   "metadata": {},
   "outputs": [],
   "source": [
    "all_train.describe().T"
   ]
  },
  {
   "cell_type": "markdown",
   "metadata": {},
   "source": [
    "## One item"
   ]
  },
  {
   "cell_type": "code",
   "execution_count": null,
   "metadata": {},
   "outputs": [],
   "source": [
    "one_item = all_train.loc[(all_train['shop_id'] == 25) & (all_train['item_id'] == 8093)]\n",
    "\n",
    "fig, ax = plt.subplots(1, 2, figsize=(15, 6))\n",
    "sns.lineplot(x='date_block_num', y='cnt', data=one_item, ax=ax[0], label='original')\n",
    "sns.lineplot(x='date_block_num', y='lag_cnt', data=one_item, ax=ax[0], label='1 period lag')\n",
    "sns.lineplot(x='date_block_num', y='lag_2_cnt', data=one_item, ax=ax[0], label='2 periods lag')\n",
    "sns.lineplot(x='date_block_num', y='lag_3_cnt', data=one_item, ax=ax[0], label='3 periods lag')\n",
    "ax[0].legend()\n",
    "ax[0].set_title('Checking lags')\n",
    "\n",
    "sns.lineplot(x='date_block_num', y='cnt', data=one_item, ax=ax[1], label='original')\n",
    "sns.lineplot(x='date_block_num', y='rolling_mean_cnt', data=one_item, ax=ax[1], label='rolling mean')\n",
    "sns.lineplot(x='date_block_num', y='rolling_min_cnt', data=one_item, ax=ax[1], label='rolling min')\n",
    "sns.lineplot(x='date_block_num', y='rolling_max_cnt', data=one_item, ax=ax[1], label='rolling max')\n",
    "ax[1].legend()\n",
    "ax[1].set_title('Checking rollings');"
   ]
  },
  {
   "cell_type": "code",
   "execution_count": null,
   "metadata": {},
   "outputs": [],
   "source": [
    "one_item.head()"
   ]
  },
  {
   "cell_type": "code",
   "execution_count": null,
   "metadata": {},
   "outputs": [],
   "source": [
    "all_train.describe().T.round(2)"
   ]
  },
  {
   "cell_type": "markdown",
   "metadata": {},
   "source": [
    "### Preprocessing"
   ]
  },
  {
   "cell_type": "code",
   "execution_count": null,
   "metadata": {},
   "outputs": [],
   "source": [
    "df = all_train.loc[all_train['date_block_num'] > 2].copy()"
   ]
  },
  {
   "cell_type": "code",
   "execution_count": null,
   "metadata": {},
   "outputs": [],
   "source": [
    "columns = ['lag_price', 'lag_cnt', 'lag_2_cnt', 'lag_3_cnt', 'rolling_mean_cnt',\n",
    "           'rolling_min_cnt', 'rolling_max_cnt']\n",
    "for col in columns:\n",
    "    print(col)\n",
    "    temp = df.groupby(['shop_id'])[col].median()\n",
    "    df = pd.merge(df, temp, left_on='shop_id', right_index=True, suffixes=('', '_y'), how='left')\n",
    "    df.loc[df[col].isna(), col] = df[f'{col}_y']\n",
    "    df.drop(columns=f'{col}_y', inplace=True)\n",
    "\n",
    "col_means = df[columns].mean()\n",
    "df[columns].fillna(col_means, inplace=True)"
   ]
  },
  {
   "cell_type": "markdown",
   "metadata": {},
   "source": [
    "## Machine learning"
   ]
  },
  {
   "cell_type": "code",
   "execution_count": null,
   "metadata": {},
   "outputs": [],
   "source": [
    "from sklearn.ensemble import RandomForestRegressor\n",
    "from sklearn.linear_model import Ridge\n",
    "from sklearn.model_selection import cross_val_score\n",
    "from sklearn.preprocessing import StandardScaler\n",
    "from sklearn.metrics import r2_score, mean_squared_error"
   ]
  },
  {
   "cell_type": "code",
   "execution_count": null,
   "metadata": {},
   "outputs": [],
   "source": [
    "train_df = df.loc[df['date_block_num'] < 28].copy()\n",
    "valid_df = df.loc[df['date_block_num'] >= 28].copy()\n",
    "\n",
    "for set_ in [train_df, valid_df]:\n",
    "    set_.drop(columns=['date_block_num', 'sales'], inplace=True)\n",
    "print(f'Valid split: {valid_df.shape[0] / (train_df.shape[0] + valid_df.shape[0])}')"
   ]
  },
  {
   "cell_type": "markdown",
   "metadata": {},
   "source": [
    "Adding features after spliting"
   ]
  },
  {
   "cell_type": "code",
   "execution_count": null,
   "metadata": {},
   "outputs": [],
   "source": [
    "shop_mean = train_df.groupby('shop_id')['cnt'].mean()\n",
    "shop_mean = shop_mean.reset_index()\n",
    "shop_mean.rename(columns={'cnt': 'shop_mean'}, inplace=True)\n",
    "train_df = pd.merge(train_df, shop_mean, on='shop_id', how='left')\n",
    "valid_df = pd.merge(valid_df, shop_mean, on='shop_id', how='left')\n",
    "\n",
    "item_mean = train_df.groupby('item_id')['cnt'].mean()\n",
    "item_mean = item_mean.reset_index()\n",
    "item_mean.rename(columns={'cnt': 'item_mean'}, inplace=True)\n",
    "train_df = pd.merge(train_df, item_mean, on='item_id', how='left')\n",
    "valid_df = pd.merge(valid_df, item_mean, on='item_id', how='left')\n",
    "\n",
    "shop_item_mean = train_df.groupby(['shop_id', 'item_id'])['cnt'].mean()\n",
    "shop_item_mean = shop_item_mean.reset_index()\n",
    "shop_item_mean.rename(columns={'cnt': 'shop_item_mean'}, inplace=True)\n",
    "train_df = pd.merge(train_df, shop_item_mean, on=['shop_id', 'item_id'], how='left')\n",
    "valid_df = pd.merge(valid_df, shop_item_mean, on=['shop_id', 'item_id'], how='left')\n",
    "\n",
    "category_mean = train_df.groupby('item_category_id')['cnt'].mean()\n",
    "category_mean = category_mean.reset_index()\n",
    "category_mean.rename(columns={'cnt': 'category_mean'}, inplace=True)\n",
    "train_df = pd.merge(train_df, category_mean, on='item_category_id', how='left')\n",
    "valid_df = pd.merge(valid_df, category_mean, on='item_category_id', how='left')"
   ]
  },
  {
   "cell_type": "code",
   "execution_count": null,
   "metadata": {},
   "outputs": [],
   "source": [
    "X_train = train_df.drop(columns='target')\n",
    "Y_train = train_df['target']\n",
    "\n",
    "X_valid = valid_df.drop(columns='target')\n",
    "Y_valid = valid_df['target']"
   ]
  },
  {
   "cell_type": "code",
   "execution_count": null,
   "metadata": {
    "scrolled": true
   },
   "outputs": [],
   "source": [
    "rf_features = ['shop_id', 'item_id', 'cnt', 'year', 'lag_cnt', \n",
    "               'shop_mean', 'item_mean', 'change_cnt', 'rolling_mean_cnt']\n",
    "\n",
    "model = RandomForestRegressor(verbose=2)\n",
    "model.fit(X_train[rf_features], Y_train)"
   ]
  },
  {
   "cell_type": "code",
   "execution_count": null,
   "metadata": {},
   "outputs": [],
   "source": [
    "Y_pred = model.predict(X_valid[rf_features])\n",
    "np.sqrt(mean_squared_error(Y_valid, Y_pred))"
   ]
  },
  {
   "cell_type": "code",
   "execution_count": null,
   "metadata": {},
   "outputs": [],
   "source": [
    "x = pd.DataFrame(list(zip(X_train.columns, model.feature_importances_)), columns=['feature', 'imp'])"
   ]
  },
  {
   "cell_type": "code",
   "execution_count": null,
   "metadata": {},
   "outputs": [],
   "source": [
    "x.sort_values('imp', ascending=False)"
   ]
  },
  {
   "cell_type": "code",
   "execution_count": null,
   "metadata": {},
   "outputs": [],
   "source": [
    "plt.scatter(Y_valid, Y_pred)"
   ]
  },
  {
   "cell_type": "code",
   "execution_count": null,
   "metadata": {},
   "outputs": [],
   "source": []
  }
 ],
 "metadata": {
  "kernelspec": {
   "display_name": "Python 3",
   "language": "python",
   "name": "python3"
  },
  "language_info": {
   "codemirror_mode": {
    "name": "ipython",
    "version": 3
   },
   "file_extension": ".py",
   "mimetype": "text/x-python",
   "name": "python",
   "nbconvert_exporter": "python",
   "pygments_lexer": "ipython3",
   "version": "3.7.6"
  }
 },
 "nbformat": 4,
 "nbformat_minor": 4
}
