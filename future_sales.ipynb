{
 "cells": [
  {
   "cell_type": "code",
   "execution_count": 1,
   "metadata": {},
   "outputs": [],
   "source": [
    "from itertools import product\n",
    "import os\n",
    "import numpy as np\n",
    "import pandas as pd\n",
    "import matplotlib.pyplot as plt\n",
    "import seaborn as sns\n",
    "sns.set()\n",
    "\n",
    "from sklearn.preprocessing import LabelEncoder, OneHotEncoder"
   ]
  },
  {
   "cell_type": "markdown",
   "metadata": {},
   "source": [
    "**Files description**\n",
    "\n",
    "* sales_train.csv - the training set. Daily historical data from January 2013 to October 2015.\n",
    "* test.csv - the test set. You need to forecast the sales for these shops and products for November 2015.\n",
    "* sample_submission.csv - a sample submission file in the correct format.\n",
    "* items.csv - supplemental information about the items/products.\n",
    "* item_categories.csv  - supplemental information about the items categories.\n",
    "* shops.csv- supplemental information about the shops.\n"
   ]
  },
  {
   "cell_type": "markdown",
   "metadata": {},
   "source": [
    "### Loading data"
   ]
  },
  {
   "cell_type": "code",
   "execution_count": 2,
   "metadata": {},
   "outputs": [
    {
     "name": "stdout",
     "output_type": "stream",
     "text": [
      "Shape:  (2935849, 10)\n"
     ]
    },
    {
     "data": {
      "text/html": [
       "<div>\n",
       "<style scoped>\n",
       "    .dataframe tbody tr th:only-of-type {\n",
       "        vertical-align: middle;\n",
       "    }\n",
       "\n",
       "    .dataframe tbody tr th {\n",
       "        vertical-align: top;\n",
       "    }\n",
       "\n",
       "    .dataframe thead th {\n",
       "        text-align: right;\n",
       "    }\n",
       "</style>\n",
       "<table border=\"1\" class=\"dataframe\">\n",
       "  <thead>\n",
       "    <tr style=\"text-align: right;\">\n",
       "      <th></th>\n",
       "      <th>date</th>\n",
       "      <th>date_block_num</th>\n",
       "      <th>shop_id</th>\n",
       "      <th>item_id</th>\n",
       "      <th>item_price</th>\n",
       "      <th>item_cnt_day</th>\n",
       "      <th>item_name</th>\n",
       "      <th>item_category_id</th>\n",
       "      <th>item_category_name</th>\n",
       "      <th>shop_name</th>\n",
       "    </tr>\n",
       "  </thead>\n",
       "  <tbody>\n",
       "    <tr>\n",
       "      <th>0</th>\n",
       "      <td>02.01.2013</td>\n",
       "      <td>0</td>\n",
       "      <td>59</td>\n",
       "      <td>22154</td>\n",
       "      <td>999.00</td>\n",
       "      <td>1.0</td>\n",
       "      <td>ЯВЛЕНИЕ 2012 (BD)</td>\n",
       "      <td>37</td>\n",
       "      <td>Кино - Blu-Ray</td>\n",
       "      <td>Ярославль ТЦ \"Альтаир\"</td>\n",
       "    </tr>\n",
       "    <tr>\n",
       "      <th>1</th>\n",
       "      <td>03.01.2013</td>\n",
       "      <td>0</td>\n",
       "      <td>25</td>\n",
       "      <td>2552</td>\n",
       "      <td>899.00</td>\n",
       "      <td>1.0</td>\n",
       "      <td>DEEP PURPLE  The House Of Blue Light  LP</td>\n",
       "      <td>58</td>\n",
       "      <td>Музыка - Винил</td>\n",
       "      <td>Москва ТРК \"Атриум\"</td>\n",
       "    </tr>\n",
       "    <tr>\n",
       "      <th>2</th>\n",
       "      <td>05.01.2013</td>\n",
       "      <td>0</td>\n",
       "      <td>25</td>\n",
       "      <td>2552</td>\n",
       "      <td>899.00</td>\n",
       "      <td>-1.0</td>\n",
       "      <td>DEEP PURPLE  The House Of Blue Light  LP</td>\n",
       "      <td>58</td>\n",
       "      <td>Музыка - Винил</td>\n",
       "      <td>Москва ТРК \"Атриум\"</td>\n",
       "    </tr>\n",
       "    <tr>\n",
       "      <th>3</th>\n",
       "      <td>06.01.2013</td>\n",
       "      <td>0</td>\n",
       "      <td>25</td>\n",
       "      <td>2554</td>\n",
       "      <td>1709.05</td>\n",
       "      <td>1.0</td>\n",
       "      <td>DEEP PURPLE  Who Do You Think We Are  LP</td>\n",
       "      <td>58</td>\n",
       "      <td>Музыка - Винил</td>\n",
       "      <td>Москва ТРК \"Атриум\"</td>\n",
       "    </tr>\n",
       "    <tr>\n",
       "      <th>4</th>\n",
       "      <td>15.01.2013</td>\n",
       "      <td>0</td>\n",
       "      <td>25</td>\n",
       "      <td>2555</td>\n",
       "      <td>1099.00</td>\n",
       "      <td>1.0</td>\n",
       "      <td>DEEP PURPLE 30 Very Best Of 2CD (Фирм.)</td>\n",
       "      <td>56</td>\n",
       "      <td>Музыка - CD фирменного производства</td>\n",
       "      <td>Москва ТРК \"Атриум\"</td>\n",
       "    </tr>\n",
       "  </tbody>\n",
       "</table>\n",
       "</div>"
      ],
      "text/plain": [
       "         date  date_block_num  shop_id  item_id  item_price  item_cnt_day  \\\n",
       "0  02.01.2013               0       59    22154      999.00           1.0   \n",
       "1  03.01.2013               0       25     2552      899.00           1.0   \n",
       "2  05.01.2013               0       25     2552      899.00          -1.0   \n",
       "3  06.01.2013               0       25     2554     1709.05           1.0   \n",
       "4  15.01.2013               0       25     2555     1099.00           1.0   \n",
       "\n",
       "                                  item_name  item_category_id  \\\n",
       "0                         ЯВЛЕНИЕ 2012 (BD)                37   \n",
       "1  DEEP PURPLE  The House Of Blue Light  LP                58   \n",
       "2  DEEP PURPLE  The House Of Blue Light  LP                58   \n",
       "3  DEEP PURPLE  Who Do You Think We Are  LP                58   \n",
       "4   DEEP PURPLE 30 Very Best Of 2CD (Фирм.)                56   \n",
       "\n",
       "                    item_category_name               shop_name  \n",
       "0                       Кино - Blu-Ray  Ярославль ТЦ \"Альтаир\"  \n",
       "1                       Музыка - Винил     Москва ТРК \"Атриум\"  \n",
       "2                       Музыка - Винил     Москва ТРК \"Атриум\"  \n",
       "3                       Музыка - Винил     Москва ТРК \"Атриум\"  \n",
       "4  Музыка - CD фирменного производства     Москва ТРК \"Атриум\"  "
      ]
     },
     "execution_count": 2,
     "metadata": {},
     "output_type": "execute_result"
    }
   ],
   "source": [
    "data_path = os.path.join('datasets', 'future_sales')\n",
    "\n",
    "sales_train_path = os.path.join(data_path, 'sales_train.csv')\n",
    "train_df = pd.read_csv(sales_train_path)\n",
    "\n",
    "test_path = os.path.join(data_path, 'test.csv')\n",
    "test_df = pd.read_csv(test_path)\n",
    "\n",
    "items_path = os.path.join(data_path, 'items.csv')\n",
    "temp_df = pd.read_csv(items_path)\n",
    "train_df = pd.merge(train_df, temp_df, on='item_id', how='left')\n",
    "\n",
    "items_category_path = os.path.join(data_path, 'item_categories.csv')\n",
    "temp_df = pd.read_csv(items_category_path)\n",
    "train_df = pd.merge(train_df, temp_df, on='item_category_id', how='left')\n",
    "\n",
    "shops_path = os.path.join(data_path, 'shops.csv')\n",
    "temp_df = pd.read_csv(shops_path)\n",
    "train_df = pd.merge(train_df, temp_df, on='shop_id', how='left')\n",
    "\n",
    "print('Shape: ', train_df.shape)\n",
    "train_df.head()"
   ]
  },
  {
   "cell_type": "markdown",
   "metadata": {},
   "source": [
    "### Data Fields\n",
    "\n",
    "* ID - an Id that represents a (Shop, Item) tuple within the test set\n",
    "* shop_id - unique identifier of a shop\n",
    "* item_id - unique identifier of a product\n",
    "* item_category_id - unique identifier of item category\n",
    "* item_cnt_day - number of products sold. You are predicting a monthly amount of this measure\n",
    "* item_price - current price of an item\n",
    "* date - date in format dd/mm/yyyy\n",
    "* date_block_num - a consecutive month number, used for convenience. January 2013 is 0, February 2013 is 1,..., October 2015 is 33\n",
    "* item_name - name of item\n",
    "* shop_name - name of shop\n",
    "* item_category_name - name of item category"
   ]
  },
  {
   "cell_type": "code",
   "execution_count": 3,
   "metadata": {},
   "outputs": [
    {
     "data": {
      "text/html": [
       "<div>\n",
       "<style scoped>\n",
       "    .dataframe tbody tr th:only-of-type {\n",
       "        vertical-align: middle;\n",
       "    }\n",
       "\n",
       "    .dataframe tbody tr th {\n",
       "        vertical-align: top;\n",
       "    }\n",
       "\n",
       "    .dataframe thead th {\n",
       "        text-align: right;\n",
       "    }\n",
       "</style>\n",
       "<table border=\"1\" class=\"dataframe\">\n",
       "  <thead>\n",
       "    <tr style=\"text-align: right;\">\n",
       "      <th></th>\n",
       "      <th>date_block_num</th>\n",
       "      <th>shop_id</th>\n",
       "      <th>item_id</th>\n",
       "      <th>item_price</th>\n",
       "      <th>item_cnt_day</th>\n",
       "      <th>item_category_id</th>\n",
       "    </tr>\n",
       "  </thead>\n",
       "  <tbody>\n",
       "    <tr>\n",
       "      <th>count</th>\n",
       "      <td>2.935849e+06</td>\n",
       "      <td>2.935849e+06</td>\n",
       "      <td>2.935849e+06</td>\n",
       "      <td>2.935849e+06</td>\n",
       "      <td>2.935849e+06</td>\n",
       "      <td>2.935849e+06</td>\n",
       "    </tr>\n",
       "    <tr>\n",
       "      <th>mean</th>\n",
       "      <td>1.456991e+01</td>\n",
       "      <td>3.300173e+01</td>\n",
       "      <td>1.019723e+04</td>\n",
       "      <td>8.908532e+02</td>\n",
       "      <td>1.242641e+00</td>\n",
       "      <td>4.000138e+01</td>\n",
       "    </tr>\n",
       "    <tr>\n",
       "      <th>std</th>\n",
       "      <td>9.422988e+00</td>\n",
       "      <td>1.622697e+01</td>\n",
       "      <td>6.324297e+03</td>\n",
       "      <td>1.729800e+03</td>\n",
       "      <td>2.618834e+00</td>\n",
       "      <td>1.710076e+01</td>\n",
       "    </tr>\n",
       "    <tr>\n",
       "      <th>min</th>\n",
       "      <td>0.000000e+00</td>\n",
       "      <td>0.000000e+00</td>\n",
       "      <td>0.000000e+00</td>\n",
       "      <td>-1.000000e+00</td>\n",
       "      <td>-2.200000e+01</td>\n",
       "      <td>0.000000e+00</td>\n",
       "    </tr>\n",
       "    <tr>\n",
       "      <th>25%</th>\n",
       "      <td>7.000000e+00</td>\n",
       "      <td>2.200000e+01</td>\n",
       "      <td>4.476000e+03</td>\n",
       "      <td>2.490000e+02</td>\n",
       "      <td>1.000000e+00</td>\n",
       "      <td>2.800000e+01</td>\n",
       "    </tr>\n",
       "    <tr>\n",
       "      <th>50%</th>\n",
       "      <td>1.400000e+01</td>\n",
       "      <td>3.100000e+01</td>\n",
       "      <td>9.343000e+03</td>\n",
       "      <td>3.990000e+02</td>\n",
       "      <td>1.000000e+00</td>\n",
       "      <td>4.000000e+01</td>\n",
       "    </tr>\n",
       "    <tr>\n",
       "      <th>75%</th>\n",
       "      <td>2.300000e+01</td>\n",
       "      <td>4.700000e+01</td>\n",
       "      <td>1.568400e+04</td>\n",
       "      <td>9.990000e+02</td>\n",
       "      <td>1.000000e+00</td>\n",
       "      <td>5.500000e+01</td>\n",
       "    </tr>\n",
       "    <tr>\n",
       "      <th>max</th>\n",
       "      <td>3.300000e+01</td>\n",
       "      <td>5.900000e+01</td>\n",
       "      <td>2.216900e+04</td>\n",
       "      <td>3.079800e+05</td>\n",
       "      <td>2.169000e+03</td>\n",
       "      <td>8.300000e+01</td>\n",
       "    </tr>\n",
       "  </tbody>\n",
       "</table>\n",
       "</div>"
      ],
      "text/plain": [
       "       date_block_num       shop_id       item_id    item_price  item_cnt_day  \\\n",
       "count    2.935849e+06  2.935849e+06  2.935849e+06  2.935849e+06  2.935849e+06   \n",
       "mean     1.456991e+01  3.300173e+01  1.019723e+04  8.908532e+02  1.242641e+00   \n",
       "std      9.422988e+00  1.622697e+01  6.324297e+03  1.729800e+03  2.618834e+00   \n",
       "min      0.000000e+00  0.000000e+00  0.000000e+00 -1.000000e+00 -2.200000e+01   \n",
       "25%      7.000000e+00  2.200000e+01  4.476000e+03  2.490000e+02  1.000000e+00   \n",
       "50%      1.400000e+01  3.100000e+01  9.343000e+03  3.990000e+02  1.000000e+00   \n",
       "75%      2.300000e+01  4.700000e+01  1.568400e+04  9.990000e+02  1.000000e+00   \n",
       "max      3.300000e+01  5.900000e+01  2.216900e+04  3.079800e+05  2.169000e+03   \n",
       "\n",
       "       item_category_id  \n",
       "count      2.935849e+06  \n",
       "mean       4.000138e+01  \n",
       "std        1.710076e+01  \n",
       "min        0.000000e+00  \n",
       "25%        2.800000e+01  \n",
       "50%        4.000000e+01  \n",
       "75%        5.500000e+01  \n",
       "max        8.300000e+01  "
      ]
     },
     "execution_count": 3,
     "metadata": {},
     "output_type": "execute_result"
    }
   ],
   "source": [
    "train_df.describe()"
   ]
  },
  {
   "cell_type": "code",
   "execution_count": 4,
   "metadata": {},
   "outputs": [],
   "source": [
    "train_df['sales'] = train_df['item_price'] * train_df['item_cnt_day']"
   ]
  },
  {
   "cell_type": "code",
   "execution_count": 5,
   "metadata": {},
   "outputs": [
    {
     "data": {
      "text/plain": [
       "<matplotlib.axes._subplots.AxesSubplot at 0x2a1c4b72208>"
      ]
     },
     "execution_count": 5,
     "metadata": {},
     "output_type": "execute_result"
    },
    {
     "data": {
      "image/png": "[encoded data removed]",
      "text/plain": [
       "<Figure size 1296x576 with 2 Axes>"
      ]
     },
     "metadata": {},
     "output_type": "display_data"
    }
   ],
   "source": [
    "fig, ax = plt.subplots(2, 1, figsize=(18,8))\n",
    "total_shop = train_df.groupby('shop_id', as_index=False)['sales'].sum()\n",
    "sns.barplot(x='shop_id', y='sales', data=total_shop, ax=ax[0])\n",
    "\n",
    "total_shop = train_df.groupby('item_category_id', as_index=False)['sales'].sum()\n",
    "sns.barplot(x='item_category_id', y='sales', data=total_shop, ax=ax[1])"
   ]
  },
  {
   "cell_type": "code",
   "execution_count": 6,
   "metadata": {},
   "outputs": [
    {
     "data": {
      "text/plain": [
       "<matplotlib.axes._subplots.AxesSubplot at 0x2a1c4c98708>"
      ]
     },
     "execution_count": 6,
     "metadata": {},
     "output_type": "execute_result"
    },
    {
     "data": {
      "image/png": "[encoded data removed]",
      "text/plain": [
       "<Figure size 1152x432 with 3 Axes>"
      ]
     },
     "metadata": {},
     "output_type": "display_data"
    }
   ],
   "source": [
    "fig = plt.figure(figsize=(16, 6))\n",
    "grid = plt.GridSpec(2, 5, hspace=0.4)\n",
    "\n",
    "ax1 = fig.add_subplot(grid[:, 0:3])\n",
    "ax2 = fig.add_subplot(grid[0, 3:])\n",
    "ax3 = fig.add_subplot(grid[1, 3:])\n",
    "date_block_group = train_df.groupby('date_block_num')\n",
    "sns.barplot(x='date_block_num', y='sales', data=train_df, ax=ax1)"
   ]
  },
  {
   "cell_type": "code",
   "execution_count": 7,
   "metadata": {},
   "outputs": [
    {
     "data": {
      "text/plain": [
       "<matplotlib.axes._subplots.AxesSubplot at 0x2a1c54b9088>"
      ]
     },
     "execution_count": 7,
     "metadata": {},
     "output_type": "execute_result"
    },
    {
     "data": {
      "image/png": "[encoded data removed]",
      "text/plain": [
       "<Figure size 1152x360 with 2 Axes>"
      ]
     },
     "metadata": {},
     "output_type": "display_data"
    }
   ],
   "source": [
    "fig, (ax1, ax2) = plt.subplots(1, 2, figsize=(16, 5))\n",
    "sns.boxplot(y=train_df['item_price'], ax=ax1)\n",
    "sns.boxplot(y=train_df['item_cnt_day'], ax=ax2)"
   ]
  },
  {
   "cell_type": "code",
   "execution_count": 8,
   "metadata": {},
   "outputs": [],
   "source": [
    "train_df = train_df.loc[(train_df['item_price'] < 300_000) \n",
    "                        & (train_df['item_cnt_day'] < 1000)\n",
    "                        & (train_df['item_price'] > 0)]\n",
    "train_df = train_df.copy()"
   ]
  },
  {
   "cell_type": "code",
   "execution_count": 9,
   "metadata": {},
   "outputs": [
    {
     "data": {
      "text/plain": [
       "shop_name\n",
       "!Якутск Орджоникидзе, 56 фран                      1\n",
       "Москва ТЦ \"Серебряный Дом\"                         1\n",
       "Мытищи ТРК \"XL-3\"                                  1\n",
       "Н.Новгород ТРЦ \"РИО\"                               1\n",
       "Н.Новгород ТРЦ \"Фантастика\"                        1\n",
       "Новосибирск ТРЦ \"Галерея Новосибирск\"              1\n",
       "Новосибирск ТЦ \"Мега\"                              1\n",
       "Омск ТЦ \"Мега\"                                     1\n",
       "РостовНаДону ТРК \"Мегацентр Горизонт\"              1\n",
       "РостовНаДону ТРК \"Мегацентр Горизонт\" Островной    1\n",
       "РостовНаДону ТЦ \"Мега\"                             1\n",
       "СПб ТК \"Невский Центр\"                             1\n",
       "СПб ТК \"Сенная\"                                    1\n",
       "Москва ТЦ \"Семеновский\"                            1\n",
       "Самара ТЦ \"Мелодия\"                                1\n",
       "Сергиев Посад ТЦ \"7Я\"                              1\n",
       "Сургут ТРЦ \"Сити Молл\"                             1\n",
       "Томск ТРЦ \"Изумрудный Город\"                       1\n",
       "Тюмень ТРЦ \"Кристалл\"                              1\n",
       "Тюмень ТЦ \"Гудвин\"                                 1\n",
       "Тюмень ТЦ \"Зеленый Берег\"                          1\n",
       "Уфа ТК \"Центральный\"                               1\n",
       "Уфа ТЦ \"Семья\" 2                                   1\n",
       "Химки ТЦ \"Мега\"                                    1\n",
       "Цифровой склад 1С-Онлайн                           1\n",
       "Чехов ТРЦ \"Карнавал\"                               1\n",
       "Якутск Орджоникидзе, 56                            1\n",
       "Самара ТЦ \"ПаркХаус\"                               1\n",
       "Москва ТЦ \"Перловский\"                             1\n",
       "Москва ТЦ \"Новый век\" (Новокосино)                 1\n",
       "Москва ТЦ \"МЕГА Теплый Стан\" II                    1\n",
       "!Якутск ТЦ \"Центральный\" фран                      1\n",
       "Адыгея ТЦ \"Мега\"                                   1\n",
       "Балашиха ТРК \"Октябрь-Киномир\"                     1\n",
       "Волжский ТЦ \"Волга Молл\"                           1\n",
       "Вологда ТРЦ \"Мармелад\"                             1\n",
       "Воронеж (Плехановская, 13)                         1\n",
       "Воронеж ТРЦ \"Максимир\"                             1\n",
       "Воронеж ТРЦ Сити-Парк \"Град\"                       1\n",
       "Выездная Торговля                                  1\n",
       "Жуковский ул. Чкалова 39м?                         1\n",
       "Жуковский ул. Чкалова 39м²                         1\n",
       "Интернет-магазин ЧС                                1\n",
       "Казань ТЦ \"Бехетле\"                                1\n",
       "Казань ТЦ \"ПаркХаус\" II                            1\n",
       "Калуга ТРЦ \"XXI век\"                               1\n",
       "Коломна ТЦ \"Рио\"                                   1\n",
       "Красноярск ТЦ \"Взлетка Плаза\"                      1\n",
       "Красноярск ТЦ \"Июнь\"                               1\n",
       "Курск ТЦ \"Пушкинский\"                              1\n",
       "Москва \"Распродажа\"                                1\n",
       "Москва МТРЦ \"Афи Молл\"                             1\n",
       "Москва Магазин С21                                 1\n",
       "Москва ТК \"Буденовский\" (пав.А2)                   1\n",
       "Москва ТК \"Буденовский\" (пав.К7)                   1\n",
       "Москва ТРК \"Атриум\"                                1\n",
       "Москва ТЦ \"Ареал\" (Беляево)                        1\n",
       "Москва ТЦ \"МЕГА Белая Дача II\"                     1\n",
       "Якутск ТЦ \"Центральный\"                            1\n",
       "Ярославль ТЦ \"Альтаир\"                             1\n",
       "Name: shop_id, dtype: int64"
      ]
     },
     "execution_count": 9,
     "metadata": {},
     "output_type": "execute_result"
    }
   ],
   "source": [
    "train_df.groupby('shop_name')['shop_id'].nunique().sort_values()"
   ]
  },
  {
   "cell_type": "code",
   "execution_count": 10,
   "metadata": {},
   "outputs": [
    {
     "data": {
      "text/plain": [
       "array(['Ярославль ТЦ \"Альтаир\"', 'Москва ТРК \"Атриум\"',\n",
       "       'Москва ТК \"Буденовский\" (пав.К7)',\n",
       "       'Москва ТК \"Буденовский\" (пав.А2)', 'Курск ТЦ \"Пушкинский\"',\n",
       "       'Москва Магазин С21', 'Красноярск ТЦ \"Июнь\"',\n",
       "       'Москва МТРЦ \"Афи Молл\"', 'Москва ТЦ \"МЕГА Теплый Стан\" II',\n",
       "       'Москва ТЦ \"МЕГА Белая Дача II\"',\n",
       "       'Москва ТЦ \"Новый век\" (Новокосино)',\n",
       "       'Москва ТЦ \"Ареал\" (Беляево)', 'Волжский ТЦ \"Волга Молл\"',\n",
       "       'Воронеж (Плехановская, 13)', 'Адыгея ТЦ \"Мега\"',\n",
       "       'Балашиха ТРК \"Октябрь-Киномир\"', 'Воронеж ТРЦ \"Максимир\"',\n",
       "       '!Якутск Орджоникидзе, 56 фран', '!Якутск ТЦ \"Центральный\" фран',\n",
       "       'Коломна ТЦ \"Рио\"', 'Калуга ТРЦ \"XXI век\"',\n",
       "       'Воронеж ТРЦ Сити-Парк \"Град\"', 'Жуковский ул. Чкалова 39м?',\n",
       "       'Казань ТЦ \"ПаркХаус\" II', 'Казань ТЦ \"Бехетле\"',\n",
       "       'Интернет-магазин ЧС', 'Уфа ТЦ \"Семья\" 2',\n",
       "       'Москва ТЦ \"Семеновский\"', 'Москва ТЦ \"Перловский\"',\n",
       "       'Москва ТЦ \"Серебряный Дом\"', 'Н.Новгород ТРЦ \"Фантастика\"',\n",
       "       'Чехов ТРЦ \"Карнавал\"', 'Химки ТЦ \"Мега\"',\n",
       "       'Сургут ТРЦ \"Сити Молл\"', 'Тюмень ТЦ \"Гудвин\"',\n",
       "       'СПб ТК \"Невский Центр\"', 'СПб ТК \"Сенная\"',\n",
       "       'Уфа ТК \"Центральный\"', 'Тюмень ТЦ \"Зеленый Берег\"',\n",
       "       'РостовНаДону ТЦ \"Мега\"', 'Омск ТЦ \"Мега\"', 'Самара ТЦ \"Мелодия\"',\n",
       "       'Новосибирск ТЦ \"Мега\"', 'Сергиев Посад ТЦ \"7Я\"',\n",
       "       'Самара ТЦ \"ПаркХаус\"', 'Вологда ТРЦ \"Мармелад\"',\n",
       "       'Якутск Орджоникидзе, 56', 'Якутск ТЦ \"Центральный\"',\n",
       "       'Цифровой склад 1С-Онлайн', 'Красноярск ТЦ \"Взлетка Плаза\"',\n",
       "       'Выездная Торговля', 'Тюмень ТРЦ \"Кристалл\"',\n",
       "       'РостовНаДону ТРК \"Мегацентр Горизонт\"',\n",
       "       'РостовНаДону ТРК \"Мегацентр Горизонт\" Островной',\n",
       "       'Томск ТРЦ \"Изумрудный Город\"', 'Н.Новгород ТРЦ \"РИО\"',\n",
       "       'Мытищи ТРК \"XL-3\"', 'Москва \"Распродажа\"',\n",
       "       'Жуковский ул. Чкалова 39м²',\n",
       "       'Новосибирск ТРЦ \"Галерея Новосибирск\"'], dtype=object)"
      ]
     },
     "execution_count": 10,
     "metadata": {},
     "output_type": "execute_result"
    }
   ],
   "source": [
    "train_df['shop_name'].unique()"
   ]
  },
  {
   "cell_type": "code",
   "execution_count": 11,
   "metadata": {
    "scrolled": true
   },
   "outputs": [
    {
     "data": {
      "text/plain": [
       "31"
      ]
     },
     "execution_count": 11,
     "metadata": {},
     "output_type": "execute_result"
    }
   ],
   "source": [
    "train_df.loc[train_df['shop_name'] == 'Сергиев Посад ТЦ \"7Я\"', 'shop_name'] = 'СергиевПосад ТЦ \"7Я\"'\n",
    "train_df.loc[:, 'city'] = train_df['shop_name'].str.split(' ').map(lambda x: x[0])\n",
    "train_df.loc[train_df['city'] == '!Якутск', 'city'] = 'Якутск'\n",
    "train_df['city'].nunique()"
   ]
  },
  {
   "cell_type": "code",
   "execution_count": 12,
   "metadata": {},
   "outputs": [],
   "source": [
    "city_encoder = LabelEncoder()\n",
    "train_df['city'] = city_encoder.fit_transform(train_df['city'])"
   ]
  },
  {
   "cell_type": "code",
   "execution_count": 13,
   "metadata": {},
   "outputs": [],
   "source": [
    "cat_encoder = LabelEncoder()\n",
    "train_df['main_category'] = train_df['item_category_name'].str.split('-').apply(lambda x: x[0])\n",
    "train_df['main_category_num'] = cat_encoder.fit_transform(train_df['main_category'])"
   ]
  },
  {
   "cell_type": "code",
   "execution_count": 14,
   "metadata": {},
   "outputs": [],
   "source": [
    "items_in_both = list(set(train_df['item_id']).intersection(set(test_df['item_id'])))"
   ]
  },
  {
   "cell_type": "code",
   "execution_count": 15,
   "metadata": {},
   "outputs": [
    {
     "data": {
      "text/plain": [
       "4737"
      ]
     },
     "execution_count": 15,
     "metadata": {},
     "output_type": "execute_result"
    }
   ],
   "source": [
    "len(items_in_both)"
   ]
  },
  {
   "cell_type": "markdown",
   "metadata": {},
   "source": [
    "Using only shop ids and item ids which are present in test dataset."
   ]
  },
  {
   "cell_type": "code",
   "execution_count": 16,
   "metadata": {},
   "outputs": [],
   "source": [
    "test_shop_id = test_df['shop_id'].unique()\n",
    "test_item_id = test_df['item_id'].unique()\n",
    "\n",
    "train_df = train_df.loc[train_df['shop_id'].isin(test_shop_id)]\n",
    "train_df = train_df.loc[train_df['item_id'].isin(test_item_id)]"
   ]
  },
  {
   "cell_type": "code",
   "execution_count": 17,
   "metadata": {},
   "outputs": [
    {
     "data": {
      "text/plain": [
       "(1224437, 14)"
      ]
     },
     "execution_count": 17,
     "metadata": {},
     "output_type": "execute_result"
    }
   ],
   "source": [
    "train_df.shape"
   ]
  },
  {
   "cell_type": "code",
   "execution_count": 18,
   "metadata": {},
   "outputs": [],
   "source": [
    "cols_to_group = ['date_block_num', 'shop_id', 'item_id']\n",
    "train_group = train_df.groupby(cols_to_group).agg({'item_price': [np.mean, np.sum],\n",
    "                                                   'item_cnt_day': [np.mean, np.sum]})\n",
    "train_group.reset_index(inplace=True)\n",
    "train_group.columns = cols_to_group + ['price_mean', 'price', 'cnt_mean', 'cnt']"
   ]
  },
  {
   "cell_type": "code",
   "execution_count": 19,
   "metadata": {},
   "outputs": [],
   "source": [
    "all_comb = []\n",
    "for i in range(34):\n",
    "    mask = train_df['date_block_num'] == i\n",
    "    temp = train_df.loc[mask]\n",
    "    one_row = np.array(list(product([i], \n",
    "                                    temp['shop_id'].unique(),\n",
    "                                    temp['item_id'].unique())))\n",
    "    all_comb.append(one_row)\n",
    "all_comb = np.vstack(all_comb)\n",
    "all_comb = pd.DataFrame(all_comb, columns=cols_to_group)\n",
    "all_train = pd.merge(all_comb, train_group, on=cols_to_group, how='left')\n",
    "all_train.fillna(0, inplace=True)"
   ]
  },
  {
   "cell_type": "markdown",
   "metadata": {},
   "source": [
    "### EDA"
   ]
  },
  {
   "cell_type": "code",
   "execution_count": 20,
   "metadata": {},
   "outputs": [],
   "source": [
    "def get_year(x):\n",
    "    return x // 12 + 2013\n",
    "\n",
    "def get_month(x):\n",
    "    return x % 12 + 1\n",
    "\n",
    "all_train['year'] = all_train['date_block_num'].apply(get_year)\n",
    "all_train['month'] = all_train['date_block_num'].apply(get_month)\n",
    "all_train['sales'] = all_train['cnt'] * all_train['price']"
   ]
  },
  {
   "cell_type": "code",
   "execution_count": 21,
   "metadata": {},
   "outputs": [
    {
     "data": {
      "text/plain": [
       "<matplotlib.axes._subplots.AxesSubplot at 0x2a1c53f5e88>"
      ]
     },
     "execution_count": 21,
     "metadata": {},
     "output_type": "execute_result"
    },
    {
     "data": {
      "image/png": "[encoded data removed]",
      "text/plain": [
       "<Figure size 432x288 with 1 Axes>"
      ]
     },
     "metadata": {},
     "output_type": "display_data"
    }
   ],
   "source": [
    "temp = all_train.groupby(['year', 'month'])[['price', 'cnt', 'sales']].sum()\n",
    "temp.reset_index(inplace=True)\n",
    "sns.barplot(x='month', y='sales', hue='year', data=temp)"
   ]
  },
  {
   "cell_type": "code",
   "execution_count": 22,
   "metadata": {},
   "outputs": [],
   "source": [
    "all_train['lag_price'] = all_train.sort_values('date_block_num').groupby(['shop_id', 'item_id'])['price'].shift(-1)\n",
    "all_train['lag_cnt'] = all_train.sort_values('date_block_num').groupby(['shop_id', 'item_id'])['cnt'].shift(-1)\n",
    "all_train['lag_2_cnt'] = all_train.sort_values('date_block_num').groupby(['shop_id', 'item_id'])['cnt'].shift(-2)\n",
    "all_train['lag_3_cnt'] = all_train.sort_values('date_block_num').groupby(['shop_id', 'item_id'])['cnt'].shift(-3)"
   ]
  },
  {
   "cell_type": "code",
   "execution_count": 23,
   "metadata": {},
   "outputs": [],
   "source": [
    "rolling_mean = lambda x: x.rolling(window = 3).mean()\n",
    "rolling_min = lambda x: x.rolling(window = 3).min()\n",
    "rolling_max = lambda x: x.rolling(window = 3).max()\n",
    "\n",
    "all_train['rolling_mean_cnt'] = all_train.sort_values('date_block_num') \\\n",
    "                                         .groupby(['shop_id', 'item_id'])['cnt'].apply(rolling_mean)\n",
    "all_train['rolling_min_cnt'] = all_train.sort_values('date_block_num') \\\n",
    "                                        .groupby(['shop_id', 'item_id'])['cnt'].apply(rolling_min)\n",
    "all_train['rolling_max_cnt'] = all_train.sort_values('date_block_num') \\\n",
    "                                        .groupby(['shop_id', 'item_id'])['cnt'].apply(rolling_max)"
   ]
  },
  {
   "cell_type": "code",
   "execution_count": 24,
   "metadata": {},
   "outputs": [],
   "source": [
    "all_train['target'] = all_train.sort_values('date_block_num').groupby(['shop_id', 'item_id'])['cnt'].shift(1)"
   ]
  },
  {
   "cell_type": "code",
   "execution_count": 25,
   "metadata": {},
   "outputs": [
    {
     "data": {
      "image/png": "[encoded data removed]",
      "text/plain": [
       "<Figure size 1080x432 with 2 Axes>"
      ]
     },
     "metadata": {},
     "output_type": "display_data"
    }
   ],
   "source": [
    "one_item = all_train.loc[(all_train['shop_id'] == 25) & (all_train['item_id'] == 8093)]\n",
    "\n",
    "fig, ax = plt.subplots(1, 2, figsize=(15, 6))\n",
    "sns.lineplot(x='date_block_num', y='cnt', data=one_item, ax=ax[0], label='original')\n",
    "sns.lineplot(x='date_block_num', y='lag_cnt', data=one_item, ax=ax[0], label='1 period lag')\n",
    "sns.lineplot(x='date_block_num', y='lag_2_cnt', data=one_item, ax=ax[0], label='2 periods lag')\n",
    "sns.lineplot(x='date_block_num', y='lag_3_cnt', data=one_item, ax=ax[0], label='3 periods lag')\n",
    "ax[0].legend()\n",
    "ax[0].set_title('Checking lags')\n",
    "\n",
    "sns.lineplot(x='date_block_num', y='cnt', data=one_item, ax=ax[1], label='original')\n",
    "sns.lineplot(x='date_block_num', y='rolling_mean_cnt', data=one_item, ax=ax[1], label='rolling mean')\n",
    "sns.lineplot(x='date_block_num', y='rolling_min_cnt', data=one_item, ax=ax[1], label='rolling min')\n",
    "sns.lineplot(x='date_block_num', y='rolling_max_cnt', data=one_item, ax=ax[1], label='rolling max')\n",
    "ax[1].legend()\n",
    "ax[1].set_title('Checking rollings');"
   ]
  },
  {
   "cell_type": "code",
   "execution_count": 26,
   "metadata": {},
   "outputs": [
    {
     "data": {
      "text/html": [
       "<div>\n",
       "<style scoped>\n",
       "    .dataframe tbody tr th:only-of-type {\n",
       "        vertical-align: middle;\n",
       "    }\n",
       "\n",
       "    .dataframe tbody tr th {\n",
       "        vertical-align: top;\n",
       "    }\n",
       "\n",
       "    .dataframe thead th {\n",
       "        text-align: right;\n",
       "    }\n",
       "</style>\n",
       "<table border=\"1\" class=\"dataframe\">\n",
       "  <thead>\n",
       "    <tr style=\"text-align: right;\">\n",
       "      <th></th>\n",
       "      <th>date_block_num</th>\n",
       "      <th>shop_id</th>\n",
       "      <th>item_id</th>\n",
       "      <th>price_mean</th>\n",
       "      <th>price</th>\n",
       "      <th>cnt_mean</th>\n",
       "      <th>cnt</th>\n",
       "      <th>year</th>\n",
       "      <th>month</th>\n",
       "      <th>sales</th>\n",
       "      <th>lag_price</th>\n",
       "      <th>lag_cnt</th>\n",
       "      <th>lag_2_cnt</th>\n",
       "      <th>lag_3_cnt</th>\n",
       "      <th>rolling_mean_cnt</th>\n",
       "      <th>rolling_min_cnt</th>\n",
       "      <th>rolling_max_cnt</th>\n",
       "      <th>target</th>\n",
       "    </tr>\n",
       "  </thead>\n",
       "  <tbody>\n",
       "    <tr>\n",
       "      <th>1071</th>\n",
       "      <td>0</td>\n",
       "      <td>25</td>\n",
       "      <td>8093</td>\n",
       "      <td>1312.085238</td>\n",
       "      <td>9184.596667</td>\n",
       "      <td>1.857143</td>\n",
       "      <td>13.0</td>\n",
       "      <td>2013</td>\n",
       "      <td>1</td>\n",
       "      <td>119399.756667</td>\n",
       "      <td>5412.095</td>\n",
       "      <td>5.0</td>\n",
       "      <td>7.0</td>\n",
       "      <td>5.0</td>\n",
       "      <td>NaN</td>\n",
       "      <td>NaN</td>\n",
       "      <td>NaN</td>\n",
       "      <td>NaN</td>\n",
       "    </tr>\n",
       "    <tr>\n",
       "      <th>45609</th>\n",
       "      <td>1</td>\n",
       "      <td>25</td>\n",
       "      <td>8093</td>\n",
       "      <td>1353.023750</td>\n",
       "      <td>5412.095000</td>\n",
       "      <td>1.250000</td>\n",
       "      <td>5.0</td>\n",
       "      <td>2013</td>\n",
       "      <td>2</td>\n",
       "      <td>27060.475000</td>\n",
       "      <td>9669.900</td>\n",
       "      <td>7.0</td>\n",
       "      <td>5.0</td>\n",
       "      <td>3.0</td>\n",
       "      <td>NaN</td>\n",
       "      <td>NaN</td>\n",
       "      <td>NaN</td>\n",
       "      <td>13.0</td>\n",
       "    </tr>\n",
       "    <tr>\n",
       "      <th>91590</th>\n",
       "      <td>2</td>\n",
       "      <td>25</td>\n",
       "      <td>8093</td>\n",
       "      <td>1381.414286</td>\n",
       "      <td>9669.900000</td>\n",
       "      <td>1.000000</td>\n",
       "      <td>7.0</td>\n",
       "      <td>2013</td>\n",
       "      <td>3</td>\n",
       "      <td>67689.300000</td>\n",
       "      <td>6995.000</td>\n",
       "      <td>5.0</td>\n",
       "      <td>3.0</td>\n",
       "      <td>7.0</td>\n",
       "      <td>8.333333</td>\n",
       "      <td>5.0</td>\n",
       "      <td>13.0</td>\n",
       "      <td>5.0</td>\n",
       "    </tr>\n",
       "    <tr>\n",
       "      <th>98445</th>\n",
       "      <td>3</td>\n",
       "      <td>25</td>\n",
       "      <td>8093</td>\n",
       "      <td>1399.000000</td>\n",
       "      <td>6995.000000</td>\n",
       "      <td>1.000000</td>\n",
       "      <td>5.0</td>\n",
       "      <td>2013</td>\n",
       "      <td>4</td>\n",
       "      <td>34975.000000</td>\n",
       "      <td>4197.000</td>\n",
       "      <td>3.0</td>\n",
       "      <td>7.0</td>\n",
       "      <td>3.0</td>\n",
       "      <td>5.666667</td>\n",
       "      <td>5.0</td>\n",
       "      <td>7.0</td>\n",
       "      <td>7.0</td>\n",
       "    </tr>\n",
       "    <tr>\n",
       "      <th>139795</th>\n",
       "      <td>4</td>\n",
       "      <td>25</td>\n",
       "      <td>8093</td>\n",
       "      <td>1399.000000</td>\n",
       "      <td>4197.000000</td>\n",
       "      <td>1.000000</td>\n",
       "      <td>3.0</td>\n",
       "      <td>2013</td>\n",
       "      <td>5</td>\n",
       "      <td>12591.000000</td>\n",
       "      <td>9793.000</td>\n",
       "      <td>7.0</td>\n",
       "      <td>3.0</td>\n",
       "      <td>6.0</td>\n",
       "      <td>5.000000</td>\n",
       "      <td>3.0</td>\n",
       "      <td>7.0</td>\n",
       "      <td>5.0</td>\n",
       "    </tr>\n",
       "  </tbody>\n",
       "</table>\n",
       "</div>"
      ],
      "text/plain": [
       "        date_block_num  shop_id  item_id   price_mean        price  cnt_mean  \\\n",
       "1071                 0       25     8093  1312.085238  9184.596667  1.857143   \n",
       "45609                1       25     8093  1353.023750  5412.095000  1.250000   \n",
       "91590                2       25     8093  1381.414286  9669.900000  1.000000   \n",
       "98445                3       25     8093  1399.000000  6995.000000  1.000000   \n",
       "139795               4       25     8093  1399.000000  4197.000000  1.000000   \n",
       "\n",
       "         cnt  year  month          sales  lag_price  lag_cnt  lag_2_cnt  \\\n",
       "1071    13.0  2013      1  119399.756667   5412.095      5.0        7.0   \n",
       "45609    5.0  2013      2   27060.475000   9669.900      7.0        5.0   \n",
       "91590    7.0  2013      3   67689.300000   6995.000      5.0        3.0   \n",
       "98445    5.0  2013      4   34975.000000   4197.000      3.0        7.0   \n",
       "139795   3.0  2013      5   12591.000000   9793.000      7.0        3.0   \n",
       "\n",
       "        lag_3_cnt  rolling_mean_cnt  rolling_min_cnt  rolling_max_cnt  target  \n",
       "1071          5.0               NaN              NaN              NaN     NaN  \n",
       "45609         3.0               NaN              NaN              NaN    13.0  \n",
       "91590         7.0          8.333333              5.0             13.0     5.0  \n",
       "98445         3.0          5.666667              5.0              7.0     7.0  \n",
       "139795        6.0          5.000000              3.0              7.0     5.0  "
      ]
     },
     "execution_count": 26,
     "metadata": {},
     "output_type": "execute_result"
    }
   ],
   "source": [
    "one_item.head()"
   ]
  },
  {
   "cell_type": "code",
   "execution_count": 27,
   "metadata": {},
   "outputs": [
    {
     "data": {
      "text/html": [
       "<div>\n",
       "<style scoped>\n",
       "    .dataframe tbody tr th:only-of-type {\n",
       "        vertical-align: middle;\n",
       "    }\n",
       "\n",
       "    .dataframe tbody tr th {\n",
       "        vertical-align: top;\n",
       "    }\n",
       "\n",
       "    .dataframe thead th {\n",
       "        text-align: right;\n",
       "    }\n",
       "</style>\n",
       "<table border=\"1\" class=\"dataframe\">\n",
       "  <thead>\n",
       "    <tr style=\"text-align: right;\">\n",
       "      <th></th>\n",
       "      <th>date_block_num</th>\n",
       "      <th>shop_id</th>\n",
       "      <th>item_id</th>\n",
       "      <th>price_mean</th>\n",
       "      <th>price</th>\n",
       "      <th>cnt_mean</th>\n",
       "      <th>cnt</th>\n",
       "      <th>year</th>\n",
       "      <th>month</th>\n",
       "      <th>sales</th>\n",
       "      <th>lag_price</th>\n",
       "      <th>lag_cnt</th>\n",
       "      <th>lag_2_cnt</th>\n",
       "      <th>lag_3_cnt</th>\n",
       "      <th>rolling_mean_cnt</th>\n",
       "      <th>rolling_min_cnt</th>\n",
       "      <th>rolling_max_cnt</th>\n",
       "      <th>target</th>\n",
       "    </tr>\n",
       "  </thead>\n",
       "  <tbody>\n",
       "    <tr>\n",
       "      <th>0</th>\n",
       "      <td>0</td>\n",
       "      <td>59</td>\n",
       "      <td>22154</td>\n",
       "      <td>999.0</td>\n",
       "      <td>999.0</td>\n",
       "      <td>1.000000</td>\n",
       "      <td>1.0</td>\n",
       "      <td>2013</td>\n",
       "      <td>1</td>\n",
       "      <td>999.0</td>\n",
       "      <td>0.0</td>\n",
       "      <td>0.0</td>\n",
       "      <td>0.0</td>\n",
       "      <td>0.0</td>\n",
       "      <td>NaN</td>\n",
       "      <td>NaN</td>\n",
       "      <td>NaN</td>\n",
       "      <td>NaN</td>\n",
       "    </tr>\n",
       "    <tr>\n",
       "      <th>1</th>\n",
       "      <td>0</td>\n",
       "      <td>59</td>\n",
       "      <td>2574</td>\n",
       "      <td>399.0</td>\n",
       "      <td>798.0</td>\n",
       "      <td>1.000000</td>\n",
       "      <td>2.0</td>\n",
       "      <td>2013</td>\n",
       "      <td>1</td>\n",
       "      <td>1596.0</td>\n",
       "      <td>399.0</td>\n",
       "      <td>1.0</td>\n",
       "      <td>1.0</td>\n",
       "      <td>0.0</td>\n",
       "      <td>NaN</td>\n",
       "      <td>NaN</td>\n",
       "      <td>NaN</td>\n",
       "      <td>NaN</td>\n",
       "    </tr>\n",
       "    <tr>\n",
       "      <th>2</th>\n",
       "      <td>0</td>\n",
       "      <td>59</td>\n",
       "      <td>2607</td>\n",
       "      <td>0.0</td>\n",
       "      <td>0.0</td>\n",
       "      <td>0.000000</td>\n",
       "      <td>0.0</td>\n",
       "      <td>2013</td>\n",
       "      <td>1</td>\n",
       "      <td>0.0</td>\n",
       "      <td>0.0</td>\n",
       "      <td>0.0</td>\n",
       "      <td>1.0</td>\n",
       "      <td>0.0</td>\n",
       "      <td>NaN</td>\n",
       "      <td>NaN</td>\n",
       "      <td>NaN</td>\n",
       "      <td>NaN</td>\n",
       "    </tr>\n",
       "    <tr>\n",
       "      <th>3</th>\n",
       "      <td>0</td>\n",
       "      <td>59</td>\n",
       "      <td>2614</td>\n",
       "      <td>0.0</td>\n",
       "      <td>0.0</td>\n",
       "      <td>0.000000</td>\n",
       "      <td>0.0</td>\n",
       "      <td>2013</td>\n",
       "      <td>1</td>\n",
       "      <td>0.0</td>\n",
       "      <td>0.0</td>\n",
       "      <td>0.0</td>\n",
       "      <td>0.0</td>\n",
       "      <td>1.0</td>\n",
       "      <td>NaN</td>\n",
       "      <td>NaN</td>\n",
       "      <td>NaN</td>\n",
       "      <td>NaN</td>\n",
       "    </tr>\n",
       "    <tr>\n",
       "      <th>4</th>\n",
       "      <td>0</td>\n",
       "      <td>59</td>\n",
       "      <td>2808</td>\n",
       "      <td>999.0</td>\n",
       "      <td>8991.0</td>\n",
       "      <td>1.666667</td>\n",
       "      <td>15.0</td>\n",
       "      <td>2013</td>\n",
       "      <td>1</td>\n",
       "      <td>134865.0</td>\n",
       "      <td>10988.5</td>\n",
       "      <td>13.0</td>\n",
       "      <td>14.0</td>\n",
       "      <td>7.0</td>\n",
       "      <td>NaN</td>\n",
       "      <td>NaN</td>\n",
       "      <td>NaN</td>\n",
       "      <td>NaN</td>\n",
       "    </tr>\n",
       "  </tbody>\n",
       "</table>\n",
       "</div>"
      ],
      "text/plain": [
       "   date_block_num  shop_id  item_id  price_mean   price  cnt_mean   cnt  year  \\\n",
       "0               0       59    22154       999.0   999.0  1.000000   1.0  2013   \n",
       "1               0       59     2574       399.0   798.0  1.000000   2.0  2013   \n",
       "2               0       59     2607         0.0     0.0  0.000000   0.0  2013   \n",
       "3               0       59     2614         0.0     0.0  0.000000   0.0  2013   \n",
       "4               0       59     2808       999.0  8991.0  1.666667  15.0  2013   \n",
       "\n",
       "   month     sales  lag_price  lag_cnt  lag_2_cnt  lag_3_cnt  \\\n",
       "0      1     999.0        0.0      0.0        0.0        0.0   \n",
       "1      1    1596.0      399.0      1.0        1.0        0.0   \n",
       "2      1       0.0        0.0      0.0        1.0        0.0   \n",
       "3      1       0.0        0.0      0.0        0.0        1.0   \n",
       "4      1  134865.0    10988.5     13.0       14.0        7.0   \n",
       "\n",
       "   rolling_mean_cnt  rolling_min_cnt  rolling_max_cnt  target  \n",
       "0               NaN              NaN              NaN     NaN  \n",
       "1               NaN              NaN              NaN     NaN  \n",
       "2               NaN              NaN              NaN     NaN  \n",
       "3               NaN              NaN              NaN     NaN  \n",
       "4               NaN              NaN              NaN     NaN  "
      ]
     },
     "execution_count": 27,
     "metadata": {},
     "output_type": "execute_result"
    }
   ],
   "source": [
    "all_train.head()"
   ]
  },
  {
   "cell_type": "markdown",
   "metadata": {},
   "source": [
    "### Preprocessing"
   ]
  },
  {
   "cell_type": "code",
   "execution_count": 43,
   "metadata": {},
   "outputs": [],
   "source": [
    "df = all_train.loc[all_train['date_block_num'] > 2].copy()"
   ]
  },
  {
   "cell_type": "code",
   "execution_count": 63,
   "metadata": {},
   "outputs": [
    {
     "data": {
      "text/html": [
       "<div>\n",
       "<style scoped>\n",
       "    .dataframe tbody tr th:only-of-type {\n",
       "        vertical-align: middle;\n",
       "    }\n",
       "\n",
       "    .dataframe tbody tr th {\n",
       "        vertical-align: top;\n",
       "    }\n",
       "\n",
       "    .dataframe thead th {\n",
       "        text-align: right;\n",
       "    }\n",
       "</style>\n",
       "<table border=\"1\" class=\"dataframe\">\n",
       "  <thead>\n",
       "    <tr style=\"text-align: right;\">\n",
       "      <th></th>\n",
       "      <th>date_block_num</th>\n",
       "      <th>shop_id</th>\n",
       "      <th>item_id</th>\n",
       "      <th>price_mean</th>\n",
       "      <th>price</th>\n",
       "      <th>cnt_mean</th>\n",
       "      <th>cnt</th>\n",
       "      <th>year</th>\n",
       "      <th>month</th>\n",
       "      <th>sales</th>\n",
       "      <th>lag_price</th>\n",
       "      <th>lag_cnt</th>\n",
       "      <th>lag_2_cnt</th>\n",
       "      <th>lag_3_cnt</th>\n",
       "      <th>rolling_mean_cnt</th>\n",
       "      <th>rolling_min_cnt</th>\n",
       "      <th>rolling_max_cnt</th>\n",
       "      <th>target</th>\n",
       "    </tr>\n",
       "  </thead>\n",
       "  <tbody>\n",
       "    <tr>\n",
       "      <th>98445</th>\n",
       "      <td>3</td>\n",
       "      <td>25</td>\n",
       "      <td>8093</td>\n",
       "      <td>1399.0</td>\n",
       "      <td>6995.0</td>\n",
       "      <td>1.0</td>\n",
       "      <td>5.0</td>\n",
       "      <td>2013</td>\n",
       "      <td>4</td>\n",
       "      <td>34975.0</td>\n",
       "      <td>4197.0</td>\n",
       "      <td>3.0</td>\n",
       "      <td>7.0</td>\n",
       "      <td>3.0</td>\n",
       "      <td>5.666667</td>\n",
       "      <td>5.0</td>\n",
       "      <td>7.0</td>\n",
       "      <td>7.0</td>\n",
       "    </tr>\n",
       "    <tr>\n",
       "      <th>98446</th>\n",
       "      <td>3</td>\n",
       "      <td>25</td>\n",
       "      <td>8012</td>\n",
       "      <td>299.0</td>\n",
       "      <td>598.0</td>\n",
       "      <td>1.0</td>\n",
       "      <td>2.0</td>\n",
       "      <td>2013</td>\n",
       "      <td>4</td>\n",
       "      <td>1196.0</td>\n",
       "      <td>299.0</td>\n",
       "      <td>1.0</td>\n",
       "      <td>2.0</td>\n",
       "      <td>1.0</td>\n",
       "      <td>2.333333</td>\n",
       "      <td>2.0</td>\n",
       "      <td>3.0</td>\n",
       "      <td>3.0</td>\n",
       "    </tr>\n",
       "    <tr>\n",
       "      <th>98447</th>\n",
       "      <td>3</td>\n",
       "      <td>25</td>\n",
       "      <td>8094</td>\n",
       "      <td>1199.0</td>\n",
       "      <td>2398.0</td>\n",
       "      <td>1.0</td>\n",
       "      <td>2.0</td>\n",
       "      <td>2013</td>\n",
       "      <td>4</td>\n",
       "      <td>4796.0</td>\n",
       "      <td>0.0</td>\n",
       "      <td>0.0</td>\n",
       "      <td>1.0</td>\n",
       "      <td>0.0</td>\n",
       "      <td>2.333333</td>\n",
       "      <td>1.0</td>\n",
       "      <td>4.0</td>\n",
       "      <td>4.0</td>\n",
       "    </tr>\n",
       "    <tr>\n",
       "      <th>98448</th>\n",
       "      <td>3</td>\n",
       "      <td>25</td>\n",
       "      <td>8172</td>\n",
       "      <td>349.0</td>\n",
       "      <td>349.0</td>\n",
       "      <td>1.0</td>\n",
       "      <td>1.0</td>\n",
       "      <td>2013</td>\n",
       "      <td>4</td>\n",
       "      <td>349.0</td>\n",
       "      <td>0.0</td>\n",
       "      <td>0.0</td>\n",
       "      <td>0.0</td>\n",
       "      <td>1.0</td>\n",
       "      <td>0.666667</td>\n",
       "      <td>0.0</td>\n",
       "      <td>1.0</td>\n",
       "      <td>0.0</td>\n",
       "    </tr>\n",
       "    <tr>\n",
       "      <th>98449</th>\n",
       "      <td>3</td>\n",
       "      <td>25</td>\n",
       "      <td>8436</td>\n",
       "      <td>249.0</td>\n",
       "      <td>249.0</td>\n",
       "      <td>1.0</td>\n",
       "      <td>1.0</td>\n",
       "      <td>2013</td>\n",
       "      <td>4</td>\n",
       "      <td>249.0</td>\n",
       "      <td>249.0</td>\n",
       "      <td>1.0</td>\n",
       "      <td>0.0</td>\n",
       "      <td>0.0</td>\n",
       "      <td>0.666667</td>\n",
       "      <td>0.0</td>\n",
       "      <td>1.0</td>\n",
       "      <td>0.0</td>\n",
       "    </tr>\n",
       "  </tbody>\n",
       "</table>\n",
       "</div>"
      ],
      "text/plain": [
       "       date_block_num  shop_id  item_id  price_mean   price  cnt_mean  cnt  \\\n",
       "98445               3       25     8093      1399.0  6995.0       1.0  5.0   \n",
       "98446               3       25     8012       299.0   598.0       1.0  2.0   \n",
       "98447               3       25     8094      1199.0  2398.0       1.0  2.0   \n",
       "98448               3       25     8172       349.0   349.0       1.0  1.0   \n",
       "98449               3       25     8436       249.0   249.0       1.0  1.0   \n",
       "\n",
       "       year  month    sales  lag_price  lag_cnt  lag_2_cnt  lag_3_cnt  \\\n",
       "98445  2013      4  34975.0     4197.0      3.0        7.0        3.0   \n",
       "98446  2013      4   1196.0      299.0      1.0        2.0        1.0   \n",
       "98447  2013      4   4796.0        0.0      0.0        1.0        0.0   \n",
       "98448  2013      4    349.0        0.0      0.0        0.0        1.0   \n",
       "98449  2013      4    249.0      249.0      1.0        0.0        0.0   \n",
       "\n",
       "       rolling_mean_cnt  rolling_min_cnt  rolling_max_cnt  target  \n",
       "98445          5.666667              5.0              7.0     7.0  \n",
       "98446          2.333333              2.0              3.0     3.0  \n",
       "98447          2.333333              1.0              4.0     4.0  \n",
       "98448          0.666667              0.0              1.0     0.0  \n",
       "98449          0.666667              0.0              1.0     0.0  "
      ]
     },
     "execution_count": 63,
     "metadata": {},
     "output_type": "execute_result"
    }
   ],
   "source": [
    "df.head()"
   ]
  },
  {
   "cell_type": "code",
   "execution_count": 48,
   "metadata": {},
   "outputs": [
    {
     "name": "stdout",
     "output_type": "stream",
     "text": [
      "lag_price\n",
      "lag_cnt\n",
      "lag_2_cnt\n",
      "lag_3_cnt\n",
      "rolling_mean_cnt\n",
      "rolling_min_cnt\n",
      "rolling_max_cnt\n"
     ]
    }
   ],
   "source": [
    "columns = ['lag_price', 'lag_cnt', 'lag_2_cnt', 'lag_3_cnt', 'rolling_mean_cnt',\n",
    "           'rolling_min_cnt', 'rolling_max_cnt']\n",
    "for col in columns:\n",
    "    print(col)\n",
    "    temp = test.groupby(['shop_id'])[col].median()\n",
    "    df = pd.merge(df, temp, left_on='shop_id', right_index=True, suffixes=('', '_y'), how='left')\n",
    "    df.loc[df[col].isna(), col] = df[f'{col}_y']\n",
    "    df.drop(columns=f'{col}_y', inplace=True)\n",
    "\n",
    "col_means = df[columns].mean()\n",
    "df[columns].fillna(col_means, inplace=True)"
   ]
  },
  {
   "cell_type": "markdown",
   "metadata": {},
   "source": [
    "## Machine learning"
   ]
  },
  {
   "cell_type": "code",
   "execution_count": 81,
   "metadata": {},
   "outputs": [],
   "source": [
    "from sklearn.ensemble import RandomForestRegressor\n",
    "from sklearn.linear_model import Ridge\n",
    "from sklearn.model_selection import cross_val_score\n",
    "from sklearn.metrics import r2_score, mean_squared_error"
   ]
  },
  {
   "cell_type": "code",
   "execution_count": 67,
   "metadata": {},
   "outputs": [
    {
     "name": "stdout",
     "output_type": "stream",
     "text": [
      "Valid split: 0.27286069994641854\n"
     ]
    }
   ],
   "source": [
    "train_df = df.loc[df['date_block_num'] < 29]\n",
    "valid_df = df.loc[df['date_block_num'] >= 29]\n",
    "\n",
    "print(f'Valid split: {valid_df.shape[0] / (train_df.shape[0] + valid_df.shape[0])}')"
   ]
  },
  {
   "cell_type": "code",
   "execution_count": 71,
   "metadata": {},
   "outputs": [],
   "source": [
    "X_train = train_df.drop(columns='target')\n",
    "Y_train = train_df['target']\n",
    "\n",
    "X_valid = valid_df.drop(columns='target')\n",
    "Y_valid = valid_df['target']"
   ]
  },
  {
   "cell_type": "code",
   "execution_count": 77,
   "metadata": {},
   "outputs": [
    {
     "name": "stderr",
     "output_type": "stream",
     "text": [
      "C:\\Users\\Bartek\\anaconda3\\lib\\site-packages\\sklearn\\linear_model\\_ridge.py:148: LinAlgWarning: Ill-conditioned matrix (rcond=1.49661e-17): result may not be accurate.\n",
      "  overwrite_a=True).T\n"
     ]
    },
    {
     "data": {
      "text/plain": [
       "Ridge(alpha=1.0, copy_X=True, fit_intercept=True, max_iter=None,\n",
       "      normalize=False, random_state=None, solver='auto', tol=0.001)"
      ]
     },
     "execution_count": 77,
     "metadata": {},
     "output_type": "execute_result"
    }
   ],
   "source": [
    "ridge = Ridge()\n",
    "ridge.fit(X_train, Y_train)"
   ]
  },
  {
   "cell_type": "code",
   "execution_count": 82,
   "metadata": {},
   "outputs": [
    {
     "data": {
      "text/plain": [
       "1.7217334456345408"
      ]
     },
     "execution_count": 82,
     "metadata": {},
     "output_type": "execute_result"
    }
   ],
   "source": [
    "Y_pred = ridge.predict(X_valid)\n",
    "np.sqrt(mean_squared_error(Y_valid, Y_pred))"
   ]
  },
  {
   "cell_type": "code",
   "execution_count": null,
   "metadata": {},
   "outputs": [],
   "source": []
  }
 ],
 "metadata": {
  "kernelspec": {
   "display_name": "Python 3",
   "language": "python",
   "name": "python3"
  },
  "language_info": {
   "codemirror_mode": {
    "name": "ipython",
    "version": 3
   },
   "file_extension": ".py",
   "mimetype": "text/x-python",
   "name": "python",
   "nbconvert_exporter": "python",
   "pygments_lexer": "ipython3",
   "version": "3.7.6"
  }
 },
 "nbformat": 4,
 "nbformat_minor": 4
}
